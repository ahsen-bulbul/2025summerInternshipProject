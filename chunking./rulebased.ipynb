{
 "cells": [
  {
   "cell_type": "code",
   "execution_count": 4,
   "id": "a691382e-986e-4418-aa3a-63f264b54673",
   "metadata": {},
   "outputs": [
    {
     "name": "stderr",
     "output_type": "stream",
     "text": [
      "[nltk_data] Downloading package punkt to /home/yapayzeka/nltk_data...\n",
      "[nltk_data]   Package punkt is already up-to-date!\n"
     ]
    },
    {
     "name": "stdout",
     "output_type": "stream",
     "text": [
      "Toplam 34920 chunk oluşturuldu.\n"
     ]
    }
   ],
   "source": [
    "import pandas as pd\n",
    "import nltk\n",
    "from nltk.tokenize import sent_tokenize\n",
    "\n",
    "nltk.download('punkt')\n",
    "\n",
    "# Parametreler\n",
    "MAX_TOKENS = 400  # 1 chunk'taki maksimum token sayısı (yaklaşık)\n",
    "csv_path = \"/home/yapayzeka/ahsen_bulbul/data/aidevdb.yargitay_kararlar.csv\"  # CSV dosya yolu\n",
    "text_column = \"rawText\"  # CSV'deki metin sütunu\n",
    "\n",
    "# CSV oku\n",
    "df = pd.read_csv(csv_path)\n",
    "\n",
    "all_chunks = []\n",
    "\n",
    "for idx, row in df.iterrows():\n",
    "    text = str(row[text_column])\n",
    "    \n",
    "    # 1️⃣ Rule-based: Paragraf bazlı bölme\n",
    "    paragraphs = text.split(\"\\n\\n\")  # çift satır arası paragraf\n",
    "    for para in paragraphs:\n",
    "        para = para.strip()\n",
    "        if not para:\n",
    "            continue\n",
    "        \n",
    "        # 2️⃣ Alt-chunk: cümle bazlı token kontrolü\n",
    "        sentences = sent_tokenize(para)\n",
    "        chunk = \"\"\n",
    "        chunk_tokens = 0\n",
    "        \n",
    "        for sent in sentences:\n",
    "            sent_tokens = len(sent.split())  # basit token sayısı\n",
    "            if chunk_tokens + sent_tokens > MAX_TOKENS:\n",
    "                all_chunks.append(chunk.strip())\n",
    "                chunk = sent + \" \"\n",
    "                chunk_tokens = sent_tokens\n",
    "            else:\n",
    "                chunk += sent + \" \"\n",
    "                chunk_tokens += sent_tokens\n",
    "        \n",
    "        if chunk.strip():\n",
    "            all_chunks.append(chunk.strip())\n",
    "\n",
    "# Sonuçları bir DataFrame olarak kaydet\n",
    "chunks_df = pd.DataFrame({\"chunk\": all_chunks})\n",
    "chunks_df.to_csv(\"yargitay_chunks.csv\", index=False)\n",
    "print(f\"Toplam {len(all_chunks)} chunk oluşturuldu.\")\n"
   ]
  },
  {
   "cell_type": "code",
   "execution_count": null,
   "id": "b1dac14f-22dd-420e-8cb7-8ed1c2f33dda",
   "metadata": {},
   "outputs": [],
   "source": []
  }
 ],
 "metadata": {
  "kernelspec": {
   "display_name": "ahsen",
   "language": "python",
   "name": "python3"
  },
  "language_info": {
   "codemirror_mode": {
    "name": "ipython",
    "version": 3
   },
   "file_extension": ".py",
   "mimetype": "text/x-python",
   "name": "python",
   "nbconvert_exporter": "python",
   "pygments_lexer": "ipython3",
   "version": "3.10.12"
  }
 },
 "nbformat": 4,
 "nbformat_minor": 5
}
