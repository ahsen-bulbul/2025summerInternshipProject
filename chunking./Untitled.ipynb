{
 "cells": [
  {
   "cell_type": "code",
   "execution_count": 2,
   "id": "6179611a-3fd5-43c4-8a3a-b36a309ed4ea",
   "metadata": {},
   "outputs": [],
   "source": [
    "import pandas as pd\n",
    "from collections import Counter\n",
    "import re\n",
    "import matplotlib.pyplot as plt\n",
    "from wordcloud import WordCloud\n",
    "import nltk\n",
    "from nltk.corpus import stopwords"
   ]
  },
  {
   "cell_type": "code",
   "execution_count": 4,
   "id": "df40a4ff-762a-4585-aece-da0e2c372d0c",
   "metadata": {},
   "outputs": [
    {
     "name": "stdout",
     "output_type": "stream",
     "text": [
      "count    18000.000000\n",
      "mean      4355.385167\n",
      "std       4289.936272\n",
      "min          7.000000\n",
      "25%       2158.750000\n",
      "50%       3614.000000\n",
      "75%       5079.000000\n",
      "max      65535.000000\n",
      "Name: metin_uzunlugu, dtype: float64\n"
     ]
    }
   ],
   "source": [
    "df = pd.read_csv('/home/yapayzeka/ahsen_bulbul/data/aidevdb.yargitay_kararlar.csv', header=None, names=['id', 'daire', 'metin'])\n",
    "df['metin_uzunlugu'] = df['metin'].apply(lambda x: len(str(x))) \n",
    "print(df['metin_uzunlugu'].describe())\n",
    "df = df[(df['metin_uzunlugu'] > 100) & (df['metin_uzunlugu'] < 20000)]\n",
    "# Metin temizleme (basit)\n",
    "def temizle(text):\n",
    "    text = text.lower()\n",
    "    text = re.sub(r'\\s+', ' ', text)  # Fazla boşlukları temizle\n",
    "    text = re.sub(r'[^\\w\\sğüşöçİı]', '', text)  # Noktalama kaldır (Türkçe karakter koru)\n",
    "    return text\n",
    "\n",
    "df['temiz_metin'] = df['metin'].apply(temizle)"
   ]
  },
  {
   "cell_type": "code",
   "execution_count": 13,
   "id": "fa2d4a7a-cb11-4df9-a8f5-a94753484289",
   "metadata": {},
   "outputs": [
    {
     "name": "stdout",
     "output_type": "stream",
     "text": [
      "['6', 'hukuk', 'dairesi', '20223281', 'e', '2024117', 'k', 'n', 'içtihat', 'metni', 'mahkemesi', 'asliye', 'hukuk', 'mahkemesi', 'taraflar', 'arasındaki', 'tazminat', 'davasından', 'dolayı', 'yapılan', 'yargılama', 'sonunda', 'ilk', 'derece', 'mahkemesince', 'davanın', 'reddine', 'karar', 'verilmiştir', 'ilk', 'derece', 'mahkemesi', 'kararı', 'davacılar', 'vekilince', 'temyiz', 'edilmekle', 'kesinlik', 'süre', 'temyiz', 'şartı', 'diğer', 'usul', 'eksiklikleri', 'yönünden', 'yapılan', 'ön', 'inceleme', 'sonucunda', 'temyiz', 'dilekçesinin', 'kabulüne', 'karar', 'verildikten', 'tetkik', 'hâkimi', 'tarafından', 'hazırlanan', 'rapor', 'dinlendikten', 'sonra', 'dosyadaki', 'belgeler', 'incelenip', 'gereği', 'düşünüldü', 'i', 'dava', '1davacı', 'vekili', 'dava', 'dilekçesinde', 'özetle', 'müvekkillerinin', 'arsa', 'sahibi', 'olduğunu', 'ın', 'müteahhit', 'olarak', 'işbu', 'arsa', 'üzerine', 'yapmış', 'olduğu', 'binanın', '1', 'asliye', 'hukuk', 'mahkemesinin', '2009139', 'd', 'dosyası', 'üzerinden', 'ihtiyati', 'tedbir', 'konularak', 'inşaatın', 'durdurulduğunu', 'humkun', '109', 'maddesi', 'gereğince', 'ihtiyati', 'tedbir', 'kararının', 'verildiği', 'tarihten', 'itibaren', '10', 'gün', 'içerisinde', 'esas', 'hakkında', 'davanın', 'açılması', 'gerektiğini', 'durumun', 'dosyaya', 'ibrazı', 'gerekirken', 'davanın', 'açılmadığını', 'hukuk', 'usulü', 'muhakemeleri', 'kanununun', '110', 'maddesi', 'ihtiyati', 'tedbir', 'kararının', 'haksız', 'olduğunun', 'belirlenmesi', 'halinde', 'tedbir', 'kararı', 'yüzünden', 'uğranılan', 'zararın', 'tazminini', 'düzenlediğini', 'ihtiyati', 'tedbir', 'kararını', 'icra', 'ettiren', 'tarafın', 'yasal', 'sürede', 'dava', 'açmaması', 'halinde', 'ihtiyati', 'tedbirin', 'haksız', 'konulduğunun', 'kabulü', 'gerektiği', 'kaldı', 'süresinde', 'dava', 'açsa', 'durumun', 'değişmeyeceğini', 'belirterek', 'müvekkillerinin', 'inşaatının', 'geç', 'bitirilmesinden', 'kaynaklı', '1000000', 'tl', 'maddi', 'tazminatın', 'tahsiline', 'karar', 'verilmesini', 'talep', 'etmiştir', '2davacı', 'vekili', 'duruşmadaki', 'beyanında', 'tedbir', 'sebebiyle', 'bağımsız', 'bölümlerinin', 'geç', 'teslim', 'edileceğini', 'bundan', 'kaynaklı', 'doğacak', 'zararları', 'talep', 'ettiklerini', 'beyan', 'etmiştir', 'ii', 'cevap', 'davalı', 'vekili', 'cevap', 'dilekçesinde', 'özetle', 'ekonomik', 'nedenlerle', '10', 'gün', 'içerisinde', 'dava', 'açamadıklarını', '19', 'gün', 'sonra', 'açtıkları', 'davanın', '4', 'asliye', 'hukuk', 'mahkemesinin', '201027', 'esas', 'sayılı', 'sırasında', 'kayıtlı', 'olduğunu', 'belirterek', 'davanın', 'reddini', 'talep', 'etmiştir', 'iii', 'mahkeme', 'karari', 'mahkemenin', '30122011', 'tarihli', '2010695', 'esas', '2011916', 'karar', 'sayılı', 'kararı', '1asliye', 'hukuk', 'mahkemesinin', '2009139', 'd', 'sayılı', 'dosyası', 'üzerinden', '26062009', 'tarihinde', 'tedbir', 'talep', 'edildiği', 'yapılan', 'keşif', 'sonucu', 'bilirkişilerin', 'raporlarını', 'ibraz', 'ettikleri', '25122009', 'tarihinde', '2776', 'parsel', 'üzerinde', 'yapımına', 'devam', 'edilen', 'inşaatın', 'tedbiren', 'durdurulmasına', 'karar', 'verildiği', 'kararın', 'infazı', '04012010', 'tarihinde', 'belediye', 'başkanlığına', 'nöbetçi', 'icra', 'müdürlüğüne', 'ayrı', 'ayrı', 'müzekkere', 'yazıldığı', '05012010', 'tarih', 'saat', '0850', 'itibari', 'inşaatın', 'mühürlenerek', 'tedbirin', 'infaz', 'edildiği', 'dolayısı', 'tedbir', 'kararın', 'verildiği', 'tarihten', '11', 'gün', 'geçtikten', 'sonra', 'kararın', 'infaz', 'edildiği', 'mahkemenin', 'infaz', 'yazdığı', 'yazının', '10', 'günlük', 'süre', 'içerisinde', 'olduğu', 'ancak', 'infazın', '11', 'gün', 'gerçekleştiği', '10', 'günlük', 'süre', 'içerisinde', 'herhangi', 'dava', 'açılmadığı', 'dolayısı', 'humkun', '109', 'maddesi', 'gereğince', 'ihtiyati', 'tedbirin', 'infaz', 'tarihi', 'itibari', 'kendiliğinden', 'kalkmış', 'olduğu', 'buna', 'rağmen', 'tedbirin', 'infaz', 'edildiği', 'humkun', '109', 'maddesi', 'aksi', 'takdirde', 'ihtiyati', 'tedbir', 'gûna', 'merasime', 'hacet', 'kalmaksızın', 'kendiliğinden', 'kalkar', 'iktizasına', 'göre', 'vazolunan', 'tedbirin', 'fiilen', 'kaldırılması', 'ihtiyati', 'tedbiri', 'tatbik', 'eden', 'daire', 'memurdan', 'talep', 'olunabilir', 'hükmünü', 'düzenlediği', 'süresinden', 'gün', 'sonra', 'tedbirin', 'infazı', 'sırasında', 'davacıların', 'yahut', 'müteahhidin', 'infaz', 'memurlarından', 'tedbir', 'kararını', 'isteyip', 'süresinde', 'dava', 'açılıp', 'açılmadığına', 'dair', 'belgeyi', 'istemeleri', 'gerekirken', 'bunu', 'yapmadıkları', 'kaldı', '05012010', 'tarihinden', 'hemen', 'sonra', 'aynı', 'gün', 'tedbirin', 'verildiği', 'dosyanın', 'incelenerek', 'dava', 'açılıp', 'açılmadığının', 'tespit', 'edilerek', 'tedbirin', 'kaldırılmasını', 'talep', 'etmeleri', 'gerekirken', 'infazdan', '7', 'gün', 'sonra', '12012010', 'tarihinde', 'tedbirin', 'kaldırılmasını', 'talep', 'ettikleri', 'böylece', 'zarar', 'varsa', 'zararın', 'ortaya', 'çıkmasına', 'artmasına', 'bizzat', 'mülk', 'sahiplerinin', 'müteahhidin', 'sebep', 'olduğu', 'zira', 'inşaat', 'durdurma', 'zabtının', 'altında', 'isimli', 'şahsın', 'imzasının', 'olduğu', 'şahsın', 'inşaatı', 'yapan', 'müteahhitın', 'akrabası', 'olduğu', 'görülmekle', 'açılan', 'davanın', 'reddine', 'karar', 'verilmiştir', 'iv', 'bozma', 'bozmadan', 'sonraki', 'yargilama', 'süreci', 'a', 'bozma', 'kararı', '1mahkemenin', 'yukarıda', 'belirtilen', 'kararına', 'karşı', 'süresi', 'içinde', 'davacılar', 'vekili', 'temyiz', 'isteminde', 'bulunmuştur', '2yargıtay', 'kapatılan', '23', 'hukuk', 'dairesinin', '04062013', 'tarihli', '20132984', 'esas', '20133773', 'karar', 'sayılı', 'kararıyla', 'dava', 'tarihinde', 'yürürlükte', 'olan', '1086', 'sayılı', 'humkun', '109', 'maddesinin', 'ihtiyati', 'tedbir', 'kararı', 'dava', 'ikamesinden', 'evvel', 'verilmiş', 'tatbik', 'edilmiş', 'olsun', 'olmasın', 'kararın', 'verildiği', 'tarihten', 'itibaren', 'on', 'gün', 'zarfında', 'esas', 'hakkında', 'dava', 'ikamesi', 'lazımdır', 'müddette', 'müddei', 'davasını', 'ikame', 'eylediğini', 'müsbit', 'evrakı', 'kararı', 'tatbik', 'eden', 'memura', 'ibrazla', 'dosyaya', 'vaz', 'kaydettirerek', 'mukabilinde', 'ilmuhaber', 'almaya', 'mecburdur', 'aksi', 'takdirde', 'ihtiyati', 'tedbir', 'gûna', 'merasime', 'hacet', 'kalmaksızın', 'kendiliğinden', 'kalkar', 'iktizasına', 'göre', 'vazolunan', 'tedbirin', 'fiilen', 'kaldırılması', 'ihtiyati', 'tedbiri', 'tatbik', 'eden', 'daire', 'memurdan', 'talep', 'olunabilir', 'hükmünü', 'içerdiği', 'somut', 'olayda', 'davalının', 'talebi', 'üzerine', '1', 'asliye', 'hukuk', 'mahkemesinin', '2009139', 'd', 'sayılı', 'dosyası', 'üzerinden', '25122009', 'tarihinde', 'inşaatın', 'durdurulması', 'yönünde', 'ihtiyati', 'tedbir', 'kararı', 'verildiği', 'teminatın', '31122009', 'tarihinde', 'yatırıldığı', '04012010', 'tarihinde', 'mahkemece', 'icra', 'müdürlüğüne', 'belediye', 'başkanlığına', 'ihtiyati', 'tedbir', 'kararı', 'gereğince', 'işlem', 'yapılması', 'müzekkereler', 'yazıldığı', 'tedbir', 'kararının', '05012010', 'günü', 'saat', '0850de', 'infaz', 'edildiği', 'aleyhine', 'ihtiyati', 'tedbir', 'kararı', 'verenlerce', '08012010', 'tarihinde', 'ihtiyati', 'tedbire', 'itiraz', 'edildiği', 'davalı', 'tarafça', '13012010', 'tarihinde', 'işbu', 'dosyanın', 'davacıları', 'aleyhine', '4', 'asliye', 'hukuk', 'mahkemesinin', '201027', 'esas', 'sayısına', 'kayıtlı', 'davanın', 'açıldığı', 'anlaşılmıştır', 'buna', 'göre', 'humkun', '109', 'maddesi', 'hükmüne', 'aykırı', 'olarak', 'ihtiyati', 'tedbire', 'ilişkin', 'karar', 'tarihinden', 'itibaren', '10', 'gün', 'içinde', 'dava', 'açılmamış', 'olduğu', 'haksız', 'ihtiyati', 'tedbirden', 'dolayı', 'olan', 'sorumluluğun', 'kusursuz', 'sorumluluk', 'olduğu', 'haksız', 'ihtiyati', 'tedbir', 'koydurtmuş', 'olan', 'tarafın', 'bundan', 'doğan', 'maddi', 'zararla', 'sorumlu', 'tutulabilmesi', 'ihtiyati', 'tedbiri', 'kötüniyetle', 'istemiş', 'koydurmuş', 'olması', 'bunda', 'herhangi', 'ihmalinin', 'bulunmasının', 'şart', 'olmadığı', 'ihtiyati', 'tedbir', 'haksız', 'bundan', 'zarar', 'doğmuş', 'haksız', 'ihtiyati', 'tedbiri', 'koydurtmuş', 'olan', 'tarafın', 'kusurlu', 'olmasa', 'bile', 'bundan', 'zarar', 'gören', 'karşı', 'tarafa', 'üçüncü', 'kişiye', 'tazminat', 'ödemekle', 'yükümlü', 'olduğu', 'ihtiyati', 'tedbir', 'isteyen', 'kararı', 'icra', 'ettiren', 'kişinin', 'ihtiyati', 'tedbiri', 'icra', 'ettirdiği', 'halde', 'humkun', '109', 'maddesindeki', 'on', 'günlük', 'süre', 'içerisinde', 'esas', 'hakkında', 'dava', 'açmazsa', 'ihtiyati', 'tedbirin', 'haksız', 'konulmuş', 'sayılacağı', 'haksız', 'ihtiyati', 'tedbirden', 'dolayı', 'tazminat', 'davası', 'açan', 'davacının', 'ödenmesini', 'istediği', 'zararı', 'haksız', 'ihtiyati', 'tedbir', 'arasında', 'uygun', 'illiyet', 'nedensellik', 'bağı', 'sebep', 'sonuç', 'ilişkisi', 'bulunması', 'gerektiği', 'durumda', 'somut', 'olayda', 'mahkemece', 'alınan', 'icra', 'ettirilen', 'ihtiyati', 'tedbir', 'kararından', 'sonra', 'süresinde', 'dava', 'açılmamış', 'olması', 'nedeniyle', 'tedbirin', 'haksız', 'olduğu', 'kabul', 'edilerek', 'davacılara', 'maddi', 'zararlarını', 'illiyet', 'bağını', 'ispat', 'imkanı', 'tanınmalı', 'sonucuna', 'göre', 'karar', 'verilmesi', 'gerekçesi', 'kararın', 'bozulmasına', 'karar', 'verilmiştir', 'b', 'mahkemece', 'bozmaya', 'uyularak', 'verilen', 'karar', 'mahkemenin', 'yukarıda', 'tarih', 'sayısı', 'belirtilen', 'kararı', 'davacı', 'tarafın', 'iddiaları', 'davalı', 'tarafın', 'savunmaları', '1', 'asliye', 'hukuk', 'mahkemesinin', '2009139', 'd', 'sayılı', 'dosyası', 'dosya', 'kapsamı', 'birlikte', 'değerlendirildiğinde', 'davalının', 'talebi', 'üzerine', 'mahkemenin', '25122009', 'tarihinde', 'dava', 'konusu', '2776', 'parsel', 'üzerinde', 'yapımı', 'devam', 'edilen', 'inşaatın', 'tedbiren', 'durdurulmasına', 'karar', 'verildiği', 'belediye', 'başkanlığına', 'kararın', 'infazı', 'müzekkere', 'yazıldığı', '05012010', 'tarih', 'saat', '0850', 'itibari', 'inşaatın', 'mühürlenmesi', 'suretiyle', 'kararın', 'infaz', 'edildiği', 'davalı', 'humkun', '109maddesinde', 'belirtilen', 'tedbir', 'kararının', 'verilmesinden', 'itibaren', '10', 'gün', 'içinde', 'esas', 'hakkında', 'dava', 'açmadığından', '05012010', 'tarihi', 'itibariyle', 'ihtiyati', 'tedbir', 'kararının', 'kendiliğinden', 'ortadan', 'kalktığı', 'ihtiyati', 'tedbir', 'kararının', 'haksız', 'olduğunun', 'kabulü', 'gerektiği', 'kadar', 'davacı', 'tarafça', 'tedbirin', '14012010', 'tarihinde', 'saat', '900', 'fiilen', 'kaldırıldığı', 'bozma', 'ilamına', 'uyulmasına', 'karar', 'verilmesi', 'usuli', 'kazanılmış', 'hak', 'doğduğunu', 'zararın', 'kira', 'gelir', 'kaybı', 'kadar', 'olduğu', 'belirtilmiş', 'tazminat', 'davalısının', 'ödemekle', 'yükümlü', 'olduğu', 'miktarın', 'uyulmasına', 'karar', 'verilen', 'yargıtay', 'ilamında', 'belirtildiği', 'üzer', 'ihtiyati', 'tedbir', 'kararının', 'icra', 'edildiği', 'tarih', 'ihtiyati', 'tedbirin', 'kalktığı', 'kalkmış', 'sayıldığı', 'tarih', 'arasındaki', 'zarar', 'olduğu', 'ihtiyati', 'tedbir', 'kararının', 'kalkmış', 'sayıldığı', 'tarih', 'icra', 'edildiği', 'tarihin', 'aynı', 'olduğu', 'arada', 'süre', 'zarfı', 'bulunmaması', 'nedeniyle', 'yapılması', 'talep', 'edilen', 'keşifte', 'yoksun', 'kalınan', 'kira', 'kaybına', 'ilişkin', 'hesaplama', 'yapılamayacağından', 'yargılamaya', 'katkı', 'sağlamayacağı', 'kanaati', 'keşif', 'yapılmadan', 'belirtilen', 'süre', 'zarfından', 'davacının', 'uğradığı', 'zarar', 'bulunmadığından', 'davanın', 'reddine', 'ilişkin', 'aşağıdaki', 'hüküm', 'kurulmuştur', 'v', 'temyiz', 'a', 'temyiz', 'yoluna', 'başvuranlar', 'mahkemenin', 'yukarıda', 'belirtilen', 'kararına', 'karşı', 'süresi', 'içinde', 'davacılar', 'vekili', 'temyiz', 'isteminde', 'bulunmuştur', 'b', 'temyiz', 'sebepleri', 'davacılar', 'vekili', 'temyiz', 'dilekçesinde', 'özetle', 'bozmaya', 'uyularak', 'devam', 'eden', 'yargılama', 'sonucunda', 'mahkemece', 'tedbirin', 'kendiliğinde', 'kalmış', 'sayıldığı', 'durumda', 'uygulanan', 'tedbirin', 'hükümsüz', 'olduğu', 'tedbirli', 'geçmiş', 'süre', 'olmadığı', 'yönlü', 'gerekçe', 'davanın', 'reddien', 'karar', 'verildiği', 'tedbirin', 'fiilen', 'uygulanması', 'zarar', 'oluştuğu', 'mahkemece', 'verilen', 'kararın', 'bozma', 'ilamına', 'bozmaya', 'uyulmuş', 'olmakla', 'usuli', 'müktesep', 'haklara', 'kanuna', 'aykırı', 'olduğu', 'tedbirin', '10', 'günlük', 'süre', 'geçtikten', 'sonra', 'kalktığı', 'ancak', '11', 'gün', 'sonra', 'tedbirin', 'infaz', 'edildiği', 'belirtilerek', 'kararın', 'bozulmasına', 'karar', 'verilmesini', 'talep', 'etmiştir', 'c', 'gerekçe', '1', 'uyuşmazlık', 'hukuki', 'nitelendirme', 'uyuşmazlık', 'arsa', 'payı', 'karşılığı', 'inşaat', 'sözleşmesinden', 'kaynaklanan', 'ihtiyati', 'tedbir', 'kararının', 'uygulanmasından', 'doğan', 'zararın', 'tazmini', 'istemine', 'ilişkindir', '2', 'ilgili', 'hukuk', '6100', 'sayılı', 'hukuk', 'muhakemeleri', 'kanununun', 'geçici', '3', 'üncü', 'maddesinin', 'ikinci', 'fıkrası', 'atfıyla', 'uygulanmasına', 'devam', 'olunan', 'mülga', '1086', 'sayılı', 'hukuk', 'usulü', 'muhakemeleri', 'kanununun', '428', 'inci', '439', 'uncu', 'maddesinin', 'ikinci', 'fıkrası', '109', 'maddeleri', '6098', 'sayılı', 'türk', 'borçlar', 'kanununun', '470', 'vd', 'maddeleri', '3', 'değerlendirme', 'mahkemece', 'tazminat', 'davalısının', 'ödemekle', 'yükümlü', 'olduğu', 'miktarın', 'uyulmasına', 'karar', 'verilen', 'yargıtay', 'ilamında', 'belirtildiği', 'üzer', 'ihtiyati', 'tedbir', 'kararının', 'icra', 'edildiği', 'tarih', 'ihtiyati', 'tedbirin', 'kalktığı', 'kalkmış', 'sayıldığı', 'tarih', 'arasındaki', 'zarar', 'olduğu', 'ihtiyati', 'tedbir', 'kararının', 'kalkmış', 'sayıldığı', 'tarih', 'icra', 'edildiği', 'tarihin', 'aynı', 'olduğu', 'arada', 'süre', 'zarfı', 'bulunmaması', 'nedeniyle', 'yapılması', 'talep', 'edilen', 'keşifte', 'yoksun', 'kalınan', 'kira', 'kaybına', 'ilişkin', 'hesaplama', 'yapılamayacağından', 'yargılamaya', 'katkı', 'sağlamayacağı', 'kanaatine', 'varılarak', 'davanın', 'reddine', 'karar', 'verildiği', 'somut', 'olayda', '05012010', 'tarihinde', 'tedbirin', 'icra', 'edildiği', '14012010', 'tarihinde', 'kaldırıldığı', 'anlaşılmaktadır', 'durumda', 'mahkemece', 'ihtiyati', 'tedbir', 'kararının', 'kalkmış', 'sayıldığı', 'tarih', 'icra', 'edildiği', 'tarihin', 'aynı', 'olduğuna', 'dair', 'karar', 'hatalı', 'olup', '05012010', 'tarihi', '14012010', 'tarihleri', 'arasında', 'davacının', 'maddi', 'zararlarını', 'illiyet', 'bağını', 'ispat', 'imkanı', 'tanınması', 'sonucuna', 'göre', 'karar', 'verilmesi', 'gerekirken', 'davanın', 'reddine', 'karar', 'verilmesi', 'hatalı', 'olmuş', 'kararın', 'bozulmasına', 'karar', 'verilmiştir', 'vi', 'karar', 'açıklanan', 'nedenlerle', 'davacılar', 'vekilinin', 'temyiz', 'itirazının', 'kabulü', 'temyiz', 'olunan', 'mahkeme', 'kararının', 'davacılar', 'yararına', 'bozulmasina', 'peşin', 'alınan', 'harcın', 'istek', 'halinde', 'temyiz', 'eden', 'davacılara', 'iadesine', 'kararın', 'tebliğinden', 'itibaren', '15', 'gün', 'içerisinde', 'karar', 'düzeltme', 'kanun', 'yolu', 'açık', 'olmak', 'üzere', 'dosyanın', 'mahkemesine', 'gönderilmesine', '11012024', 'tarihinde', 'oy', 'birliğiyle', 'karar', 'verildi']\n"
     ]
    }
   ],
   "source": [
    "stop_words = set([\n",
    "    \"acaba\", \"ama\", \"aslında\", \"az\", \"bazı\", \"belki\", \"ben\", \"bence\", \"bir\", \"birkaç\",\n",
    "    \"birşey\", \"biz\", \"bu\", \"çok\", \"çünkü\", \"da\", \"daha\", \"de\", \"defa\", \"diye\",\n",
    "    \"eğer\", \"en\", \"gibi\", \"hem\", \"hep\", \"hepsi\", \"her\", \"hiç\", \"için\", \"ile\",\n",
    "    \"ise\", \"kez\", \"ki\", \"kim\", \"mi\", \"mı\", \"mu\", \"mü\", \"nasıl\", \"ne\", \"neden\",\n",
    "    \"nerde\", \"nerede\", \"nereye\", \"niçin\", \"o\", \"sanki\", \"şey\", \"siz\", \"şu\", \"tüm\",\n",
    "    \"ve\", \"veya\", \"ya\", \"yani\"\n",
    "])\n",
    "\n",
    "def temizle(text):\n",
    "    text = str(text).lower()#string ve küçük harf\n",
    "    text = re.sub(r'\\s+', ' ', text)#re.sub regex ile bir veya birden fazla boşluk karakterini tek bir boşluk yapar.\n",
    "    text = re.sub(r'[^\\w\\sğüşöçİı]', '', text)#Türkçe karakterler ve harf/rakam/boşluk harici tüm karakterler silinir.\n",
    "    return text\n",
    "\n",
    "def tokenize_fast(text):\n",
    "    return [word for word in text.split() if word not in stop_words]\n",
    "\n",
    "\n",
    "df['temiz_metin'] = df['metin'].apply(temizle)\n",
    "df['tokens'] = df['temiz_metin'].apply(tokenize_fast)\n",
    "\n",
    "#print(df['tokens'].head(10))  # İlk 10 satırı gösterir\n",
    "\n",
    "#print(df['tokens'].iloc[:20])  # İlk 20 satırı gösterir\n",
    "\n",
    "print(df['tokens'].iloc[1])  # İlk satırdaki tüm kelimeler tam gösterilir\n"
   ]
  }
 ],
 "metadata": {
  "kernelspec": {
   "display_name": "ahsen",
   "language": "python",
   "name": "python3"
  },
  "language_info": {
   "codemirror_mode": {
    "name": "ipython",
    "version": 3
   },
   "file_extension": ".py",
   "mimetype": "text/x-python",
   "name": "python",
   "nbconvert_exporter": "python",
   "pygments_lexer": "ipython3",
   "version": "3.10.12"
  }
 },
 "nbformat": 4,
 "nbformat_minor": 5
}
