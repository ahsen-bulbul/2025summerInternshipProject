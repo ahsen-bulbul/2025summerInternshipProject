{
 "cells": [
  {
   "cell_type": "code",
   "execution_count": 5,
   "metadata": {},
   "outputs": [],
   "source": [
    "from chonkie import RecursiveChunker, RecursiveRules \n",
    "import pandas as pd\n",
    "\n",
    "df = pd.read_csv(\"/home/yapayzeka/ahsen_bulbul/data/10data.csv\")"
   ]
  },
  {
   "cell_type": "code",
   "execution_count": null,
   "metadata": {},
   "outputs": [],
   "source": [
    "chunker = RecursiveChunker(\n",
    "    tokenizer_or_token_counter: Union[str, Callable, Any] = \"character\",\n",
    "    chunk_size: int = 2048,\n",
    "    rules: RecursiveRules = RecursiveRules(),\n",
    "    min_characters_per_chunk: int = 24,\n",
    ")"
   ]
  },
  {
   "cell_type": "code",
   "execution_count": 6,
   "metadata": {},
   "outputs": [
    {
     "name": "stderr",
     "output_type": "stream",
     "text": [
      "/home/yapayzeka/ahsen_bulbul/ahsen/lib/python3.10/site-packages/tqdm/auto.py:21: TqdmWarning: IProgress not found. Please update jupyter and ipywidgets. See https://ipywidgets.readthedocs.io/en/stable/user_install.html\n",
      "  from .autonotebook import tqdm as notebook_tqdm\n"
     ]
    }
   ],
   "source": [
    "chunker = RecursiveChunker.from_recipe(lang=\"tr\")"
   ]
  },
  {
   "cell_type": "code",
   "execution_count": 13,
   "metadata": {},
   "outputs": [
    {
     "name": "stdout",
     "output_type": "stream",
     "text": [
      "Metinler başarıyla parçalara ayrıldı ve 'Yhunked_data.csv' dosyasına kaydedildi.\n"
     ]
    }
   ],
   "source": [
    "import pandas as pd\n",
    "from chonkie import RecursiveChunker, RecursiveRules, RecursiveLevel\n",
    "\n",
    "# 1. CSV dosyasını okuyun\n",
    "# Dosyanızın adını ve yolunu burada belirtin\n",
    "df = pd.read_csv('/home/yapayzeka/ahsen_bulbul/data/10data.csv')\n",
    "\n",
    "# 2. RecursiveChunker için kuralları tanımlayın\n",
    "rules = RecursiveRules(\n",
    "    levels=[\n",
    "        RecursiveLevel(delimiters=[\"\\n\\n\"]),\n",
    "        RecursiveLevel(delimiters=[\"\\n\"]),\n",
    "        RecursiveLevel(delimiters=[\".\", \"?\", \"!\", \":\", \";\", \")\"]),\n",
    "        RecursiveLevel(whitespace=True)\n",
    "    ]\n",
    ")\n",
    "\n",
    "# 3. Chunker'ı başlatın\n",
    "chunker = RecursiveChunker(\n",
    "    rules=rules,\n",
    "    chunk_size=1200,\n",
    "    min_characters_per_chunk=20\n",
    ")\n",
    "\n",
    "# 4. Parçalara ayrılmış verileri saklamak için boş bir liste oluşturun\n",
    "chunked_data = []\n",
    "\n",
    "# 5. DataFrame'deki her satırda döngü oluşturun\n",
    "for index, row in df.iterrows():\n",
    "    text_to_chunk = row['rawText']\n",
    "    \n",
    "    if pd.notna(text_to_chunk):\n",
    "        # Düzeltme: return_type parametresi kaldırıldı.\n",
    "        chunks = chunker(text_to_chunk)\n",
    "        \n",
    "        for i, chunk in enumerate(chunks):\n",
    "            chunked_data.append({\n",
    "                'original_id': row['_id'],\n",
    "                'original_location': row['location'],\n",
    "                'chunk_id': f\"{row['_id']}-{i}\",\n",
    "                'chunk_text': chunk.text,\n",
    "                'chunk_token_count': chunk.token_count,\n",
    "            })\n",
    "\n",
    "# 6. Parçalara ayrılmış verilerden yeni bir DataFrame oluşturun\n",
    "chunked_df = pd.DataFrame(chunked_data)\n",
    "\n",
    "# 7. Yeni DataFrame'i bir CSV dosyasına kaydedin\n",
    "output_file = 'Yhunked_data.csv'\n",
    "chunked_df.to_csv(output_file, index=False)\n",
    "\n",
    "print(f\"Metinler başarıyla parçalara ayrıldı ve '{output_file}' dosyasına kaydedildi.\")"
   ]
  }
 ],
 "metadata": {
  "kernelspec": {
   "display_name": "ahsen",
   "language": "python",
   "name": "python3"
  },
  "language_info": {
   "codemirror_mode": {
    "name": "ipython",
    "version": 3
   },
   "file_extension": ".py",
   "mimetype": "text/x-python",
   "name": "python",
   "nbconvert_exporter": "python",
   "pygments_lexer": "ipython3",
   "version": "3.10.12"
  }
 },
 "nbformat": 4,
 "nbformat_minor": 2
}
