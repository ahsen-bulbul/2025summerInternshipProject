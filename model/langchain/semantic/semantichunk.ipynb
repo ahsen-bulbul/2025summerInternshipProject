{
 "cells": [
  {
   "cell_type": "code",
   "execution_count": 2,
   "id": "876e5a2d",
   "metadata": {},
   "outputs": [],
   "source": [
    "import pandas as pd\n",
    "from langchain_experimental.text_splitter import SemanticChunker\n",
    "from langchain.embeddings import SentenceTransformerEmbeddings\n",
    "import re\n"
   ]
  },
  {
   "cell_type": "code",
   "execution_count": 3,
   "id": "1377b5ab",
   "metadata": {},
   "outputs": [],
   "source": [
    "df = pd.read_csv(\"/home/yapayzeka/ahsen_bulbul/data/10data.csv\", sep=\",\", encoding=\"utf-8\")\n",
    "\n",
    "def normalize_text(text):\n",
    "    if pd.isna(text):\n",
    "        return \"\"\n",
    "    text = text.replace(\"\\n\", \" \")\n",
    "    text = text.replace(\"\\r\", \" \")\n",
    "    text = text.replace('\"', '')\n",
    "    text = re.sub(r\"\\.{2,}\", \"\", text)\n",
    "    text = re.sub(r\"\\s+\", \" \", text)\n",
    "    text = text.strip()\n",
    "    text = text.lower()\n",
    "    return text\n",
    "\n",
    "df[\"rawText_clean\"] = df[\"rawText\"].apply(normalize_text)\n"
   ]
  },
  {
   "cell_type": "code",
   "execution_count": 3,
   "id": "b0adb19e",
   "metadata": {},
   "outputs": [
    {
     "name": "stderr",
     "output_type": "stream",
     "text": [
      "/tmp/ipykernel_3738686/993254723.py:1: LangChainDeprecationWarning: The class `HuggingFaceEmbeddings` was deprecated in LangChain 0.2.2 and will be removed in 1.0. An updated version of the class exists in the :class:`~langchain-huggingface package and should be used instead. To use it run `pip install -U :class:`~langchain-huggingface` and import as `from :class:`~langchain_huggingface import HuggingFaceEmbeddings``.\n",
      "  emb_model = SentenceTransformerEmbeddings(model_name=\"BAAI/bge-m3\")\n",
      "/home/yapayzeka/ahsen_bulbul/ahsen/lib/python3.10/site-packages/tqdm/auto.py:21: TqdmWarning: IProgress not found. Please update jupyter and ipywidgets. See https://ipywidgets.readthedocs.io/en/stable/user_install.html\n",
      "  from .autonotebook import tqdm as notebook_tqdm\n"
     ]
    }
   ],
   "source": [
    "emb_model = SentenceTransformerEmbeddings(model_name=\"BAAI/bge-m3\")\n"
   ]
  },
  {
   "cell_type": "code",
   "execution_count": 9,
   "id": "ce148195",
   "metadata": {},
   "outputs": [
    {
     "name": "stdout",
     "output_type": "stream",
     "text": [
      "Chunk 1: 6. hukuk dairesi 2023/596 e. , 2024/257 k. \\n i̇çtihat metni mahkemesi̇ : bölge adliye mahkemesi 13. hukuk dairesi taraflar arasındaki rücuen tazminat davasından dolayı yapılan yargılama sonunda, i̇lk...\n"
     ]
    }
   ],
   "source": [
    "semantic_chunker = SemanticChunker(\n",
    "    embeddings=emb_model,\n",
    "    buffer_size=30,                    # chunk büyüklüğü ayarı\n",
    "    breakpoint_threshold_type=\"gradient\",\n",
    "    breakpoint_threshold_amount=0.5,   \n",
    "    number_of_chunks=10,                # her metin için max chunk sayısı\n",
    "    min_chunk_size=50\n",
    ")\n",
    "\n",
    "# Örnek olarak ilk kararın textini chunk et\n",
    "text = df.loc[0, \"rawText_clean\"]\n",
    "chunks = semantic_chunker.split_text(text)\n",
    "\n",
    "# Chunk’leri yazdır\n",
    "for i, chunk in enumerate(chunks):\n",
    "    print(f\"Chunk {i+1}: {chunk[:200]}...\")  # sadece ilk 200 karakteri göster\n"
   ]
  },
  {
   "cell_type": "code",
   "execution_count": 10,
   "id": "72028c3a",
   "metadata": {},
   "outputs": [],
   "source": [
    "all_chunks = []\n",
    "for index, row in df.iterrows():\n",
    "    text = row[\"rawText_clean\"]\n",
    "    chunks = semantic_chunker.split_text(text)\n",
    "    for chunk in chunks:\n",
    "        all_chunks.append({\n",
    "            \"id\": row[\"_id\"],\n",
    "            \"chunk_text\": chunk\n",
    "        })\n",
    "\n",
    "# Pandas DataFrame olarak saklayabilirsin\n",
    "chunks_df = pd.DataFrame(all_chunks)\n",
    "chunks_df.to_csv(\"chunks2.csv\", index=False, encoding=\"utf-8\")\n"
   ]
  }
 ],
 "metadata": {
  "kernelspec": {
   "display_name": "ahsen",
   "language": "python",
   "name": "python3"
  },
  "language_info": {
   "codemirror_mode": {
    "name": "ipython",
    "version": 3
   },
   "file_extension": ".py",
   "mimetype": "text/x-python",
   "name": "python",
   "nbconvert_exporter": "python",
   "pygments_lexer": "ipython3",
   "version": "3.10.12"
  }
 },
 "nbformat": 4,
 "nbformat_minor": 5
}
