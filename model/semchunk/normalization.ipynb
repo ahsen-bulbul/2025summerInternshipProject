{
 "cells": [
  {
   "cell_type": "code",
   "execution_count": 1,
   "metadata": {},
   "outputs": [
    {
     "name": "stdout",
     "output_type": "stream",
     "text": [
      "Orijinal vektör: tensor([3., 4.])\n",
      "Orijinal norm: 5.0\n",
      "Normalize edilmiş vektör: tensor([0.6000, 0.8000])\n",
      "Normalize edilmiş norm: 1.0\n",
      "\n",
      "Orijinal batch:\n",
      " tensor([[3., 4.],\n",
      "        [1., 2.],\n",
      "        [0., 0.]])\n",
      "Orijinal batch normları: tensor([5.0000, 2.2361, 0.0000])\n",
      "Normalize edilmiş batch:\n",
      " tensor([[0.6000, 0.8000],\n",
      "        [0.4472, 0.8944],\n",
      "        [0.0000, 0.0000]])\n",
      "Normalize edilmiş batch normları: tensor([1.0000, 1.0000, 0.0000])\n"
     ]
    }
   ],
   "source": [
    "import torch\n",
    "\n",
    "def l2_normalize_tensor(t: torch.Tensor, eps: float = 1e-10) -> torch.Tensor:\n",
    "    if t.dim() == 1:\n",
    "        norm = torch.norm(t).clamp(min=eps)\n",
    "        return t / norm\n",
    "    norm = torch.norm(t, dim=1, keepdim=True).clamp(min=eps)\n",
    "    return t / norm\n",
    "\n",
    "# Tek vektör testi\n",
    "v = torch.tensor([3.0, 4.0])\n",
    "print(\"Orijinal vektör:\", v)\n",
    "print(\"Orijinal norm:\", torch.norm(v).item())\n",
    "\n",
    "v_normed = l2_normalize_tensor(v)\n",
    "print(\"Normalize edilmiş vektör:\", v_normed)\n",
    "print(\"Normalize edilmiş norm:\", torch.norm(v_normed).item())\n",
    "\n",
    "# Batch vektör testi\n",
    "batch = torch.tensor([[3.0, 4.0], [1.0, 2.0], [0.0, 0.0]])\n",
    "print(\"\\nOrijinal batch:\\n\", batch)\n",
    "print(\"Orijinal batch normları:\", torch.norm(batch, dim=1))\n",
    "\n",
    "batch_normed = l2_normalize_tensor(batch)\n",
    "print(\"Normalize edilmiş batch:\\n\", batch_normed)\n",
    "print(\"Normalize edilmiş batch normları:\", torch.norm(batch_normed, dim=1))\n"
   ]
  },
  {
   "cell_type": "code",
   "execution_count": null,
   "metadata": {},
   "outputs": [],
   "source": []
  }
 ],
 "metadata": {
  "kernelspec": {
   "display_name": "ahsen",
   "language": "python",
   "name": "python3"
  },
  "language_info": {
   "codemirror_mode": {
    "name": "ipython",
    "version": 3
   },
   "file_extension": ".py",
   "mimetype": "text/x-python",
   "name": "python",
   "nbconvert_exporter": "python",
   "pygments_lexer": "ipython3",
   "version": "3.10.12"
  }
 },
 "nbformat": 4,
 "nbformat_minor": 2
}
