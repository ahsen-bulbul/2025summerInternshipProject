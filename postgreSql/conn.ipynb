{
 "cells": [
  {
   "cell_type": "code",
   "execution_count": 18,
   "id": "35ecd886",
   "metadata": {},
   "outputs": [],
   "source": [
    "import psycopg2\n",
    "from psycopg2 import sql\n"
   ]
  },
  {
   "cell_type": "code",
   "execution_count": 19,
   "id": "795bd276",
   "metadata": {},
   "outputs": [],
   "source": [
    "\n",
    "# Bağlantı parametreleri (Docker container)\n",
    "DB_HOST = \"localhost\"       # Docker host\n",
    "DB_PORT = \"5432\"            # Docker port\n",
    "DB_USER = \"postgres\"        # PostgreSQL kullanıcı adı\n",
    "DB_PASSWORD = \"210705\"      # PostgreSQL şifresi\n"
   ]
  },
  {
   "cell_type": "code",
   "execution_count": 20,
   "id": "3f4917dd",
   "metadata": {},
   "outputs": [
    {
     "name": "stdout",
     "output_type": "stream",
     "text": [
      "veritabanı oluşturuldu: new_db\n",
      "✅ Tablo 'users' oluşturuldu\n"
     ]
    }
   ],
   "source": [
    "\n",
    "\n",
    "conn = psycopg2.connect(\n",
    "    host=DB_HOST,\n",
    "    port=DB_PORT,\n",
    "    user=DB_USER,\n",
    "    password=DB_PASSWORD,\n",
    "    dbname=\"postgres\"\n",
    ")\n",
    "conn.autocommit = True\n",
    "cur = conn.cursor()\n",
    "\n",
    "\n",
    "db_name = \"new_db\"\n",
    "cur.execute(sql.SQL(\"CREATE DATABASE {}\").format(sql.Identifier(db_name)))\n",
    "print(f\"veritabanı oluşturuldu: {db_name}\")\n",
    "\n",
    "cur.close()\n",
    "conn.close()\n",
    "\n",
    "conn = psycopg2.connect(\n",
    "    host=DB_HOST,\n",
    "    port=DB_PORT,\n",
    "    user=DB_USER,\n",
    "    password=DB_PASSWORD,\n",
    "    dbname=db_name\n",
    ")\n",
    "cur = conn.cursor()\n",
    "\n",
    "cur.execute(\"\"\"\n",
    "CREATE TABLE IF NOT EXISTS users (\n",
    "    id SERIAL PRIMARY KEY,\n",
    "    name VARCHAR(100),\n",
    "    email VARCHAR(100)\n",
    ")\n",
    "\"\"\")\n",
    "conn.commit()\n",
    "print(\"✅ Tablo 'users' oluşturuldu\")\n"
   ]
  },
  {
   "cell_type": "markdown",
   "id": "22a33a2a",
   "metadata": {},
   "source": [
    "### veri ekleme"
   ]
  },
  {
   "cell_type": "code",
   "execution_count": 14,
   "id": "55633ce2",
   "metadata": {},
   "outputs": [],
   "source": [
    "cur = conn.cursor()#önceki bağlantıyı kullanıyoruz"
   ]
  },
  {
   "cell_type": "code",
   "execution_count": 21,
   "id": "8303c6cc",
   "metadata": {},
   "outputs": [],
   "source": [
    "users_to_insert = [\n",
    "    (\"ahsen\", \"ahsenbulbul21@gmail.com\"),\n",
    "    (\"dilara\", \"dido@mido.com\"),\n",
    "    (\"müzeyyen\", \"muz@ornek.com\")\n",
    "]"
   ]
  },
  {
   "cell_type": "code",
   "execution_count": 22,
   "id": "321aef6f",
   "metadata": {},
   "outputs": [
    {
     "name": "stdout",
     "output_type": "stream",
     "text": [
      "✅ Kullanıcılar tabloya eklendi\n"
     ]
    }
   ],
   "source": [
    "insert_query = \"INSERT INTO users (name, email) VALUES (%s, %s)\"#sql sorgumuz \n",
    "cur.executemany(insert_query, users_to_insert)#burada ilk parametre sorgu ikincisi ise eklemek istediğimiz veriler\n",
    "conn.commit()#değişiklikleri kaydediyoruz\n",
    "print(\"✅ Kullanıcılar tabloya eklendi\")"
   ]
  },
  {
   "cell_type": "markdown",
   "id": "3b1a7596",
   "metadata": {},
   "source": [
    "### veri çekme"
   ]
  },
  {
   "cell_type": "code",
   "execution_count": 23,
   "id": "9dc8cb7b",
   "metadata": {},
   "outputs": [
    {
     "name": "stdout",
     "output_type": "stream",
     "text": [
      "📊 Kullanıcılar tablodan çekildi:\n",
      "(1, 'ahsen', 'ahsenbulbul21@gmail.com')\n",
      "(2, 'dilara', 'dido@mido.com')\n",
      "(3, 'müzeyyen', 'muz@ornek.com')\n"
     ]
    }
   ],
   "source": [
    "cur.execute(\"SELECT id, name, email FROM users\")\n",
    "rows = cur.fetchall()\n",
    "print(\"📊 Kullanıcılar tablodan çekildi:\")\n",
    "for row in rows:\n",
    "    print(row)"
   ]
  },
  {
   "cell_type": "markdown",
   "id": "9c7d6f07",
   "metadata": {},
   "source": [
    "### güncelleme"
   ]
  },
  {
   "cell_type": "code",
   "execution_count": 24,
   "id": "b1ba6de8",
   "metadata": {},
   "outputs": [
    {
     "name": "stdout",
     "output_type": "stream",
     "text": [
      "✅ Kullanıcı güncellendi\n"
     ]
    }
   ],
   "source": [
    "cur.execute(\"UPDATE users SET email = %s WHERE name = %s\", (\"ahsen_new@example.com\", \"ahsen\"))#mailimi degistiriom\n",
    "conn.commit()\n",
    "print(\"✅ Kullanıcı güncellendi\")"
   ]
  },
  {
   "cell_type": "code",
   "execution_count": 25,
   "id": "ab3fd60c",
   "metadata": {},
   "outputs": [
    {
     "name": "stdout",
     "output_type": "stream",
     "text": [
      "📊 Güncellenmiş kullanıcılar:\n",
      "(2, 'dilara', 'dido@mido.com')\n",
      "(3, 'müzeyyen', 'muz@ornek.com')\n",
      "(1, 'ahsen', 'ahsen_new@example.com')\n"
     ]
    }
   ],
   "source": [
    "cur.execute(\"SELECT id, name, email FROM users\")\n",
    "rows = cur.fetchall()\n",
    "print(\"📊 Güncellenmiş kullanıcılar:\")\n",
    "for row in rows:\n",
    "    print(row)"
   ]
  },
  {
   "cell_type": "markdown",
   "id": "2b611694",
   "metadata": {},
   "source": [
    "### silme"
   ]
  },
  {
   "cell_type": "code",
   "execution_count": null,
   "id": "f87c0306",
   "metadata": {},
   "outputs": [],
   "source": [
    "cur.execute(\"DELETE FROM users WHERE name = %s\", (\"müzeyyen\",))\n",
    "conn.commit()\n",
    "print(\"✅ Kullanıcı silindi\")"
   ]
  }
 ],
 "metadata": {
  "kernelspec": {
   "display_name": "venv310",
   "language": "python",
   "name": "python3"
  },
  "language_info": {
   "codemirror_mode": {
    "name": "ipython",
    "version": 3
   },
   "file_extension": ".py",
   "mimetype": "text/x-python",
   "name": "python",
   "nbconvert_exporter": "python",
   "pygments_lexer": "ipython3",
   "version": "3.10.18"
  }
 },
 "nbformat": 4,
 "nbformat_minor": 5
}
