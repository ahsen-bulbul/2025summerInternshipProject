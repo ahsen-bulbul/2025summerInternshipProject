{
 "cells": [
  {
   "cell_type": "code",
   "execution_count": null,
   "metadata": {},
   "outputs": [],
   "source": [
    "from config import Config\n",
    "from pipeline import YargitayPipeline\n",
    "import pandas as pd\n",
    "import json\n",
    "from processor import YargitaySemanticProcessor\n",
    "\n",
    "def main():\n",
    "    config = Config(\n",
    "        CSV_FILE=\"/home/yapayzeka/ahsen_bulbul/data/cleaned10chunk.csv\",\n",
    "        TOKEN_SIZE=512,\n",
    "        QDRANT_URL=\"http://localhost:6333\",\n",
    "        COLLECTION_NAME=\"try\",\n",
    "        EMBEDDING_DIM=512,\n",
    "        BATCH_SIZE=100\n",
    "    )\n",
    "    pipeline = YargitayPipeline(config)\n",
    "\n",
    "    while True:\n",
    "        print(\"\\n\" + \"=\"*60)\n",
    "        print(\"🏛️ YARGITAY KARARLARI SORGU SİSTEMİ\")\n",
    "        print(\"=\"*60)\n",
    "        print(\"1) Full pipeline çalıştır (CSV -> chunks -> embed -> qdrant)\")\n",
    "        print(\"2) İnteraktif arama\")\n",
    "        print(\"3) Koleksiyon bilgilerini göster\")\n",
    "        print(\"4) Çıkış\")\n",
    "        choice = input(\"Seçiminiz (1-4): \").strip()\n",
    "        if choice==\"1\":\n",
    "            csv_path = input(f\"CSV yolu (enter ile default: {config.CSV_FILE}): \").strip() or config.CSV_FILE\n",
    "            pipeline.full_pipeline(csv_path)\n",
    "        elif choice==\"2\":\n",
    "            pipeline.interactive_search()\n",
    "        elif choice==\"3\":\n",
    "            info = pipeline.processor.get_collection_info()\n",
    "            print(json.dumps(info, indent=2, ensure_ascii=False))\n",
    "        elif choice==\"4\":\n",
    "            pipeline.semantic()\n",
    "        elif choice==\"5\":\n",
    "            print(\"👋 Görüşürüz\")\n",
    "            break\n",
    "        else:\n",
    "            print(\"❌ Geçersiz seçim\")\n",
    "\n",
    "if __name__ == \"__main__\":\n",
    "    main()\n"
   ]
  },
  {
   "cell_type": "code",
   "execution_count": 29,
   "metadata": {},
   "outputs": [],
   "source": [
    "from config import Config\n",
    "from qdrant_client import QdrantClient, models\n",
    "from FlagEmbedding import BGEM3FlagModel\n",
    "from qdrant_client. models import Prefetch, FusionQuery, Fusion, NamedVector, NamedSparseVector, SparseVector\n",
    "from sklearn.feature_extraction.text import TfidfVectorizer\n",
    "from rank_bm25 import BM25Okapi"
   ]
  },
  {
   "cell_type": "code",
   "execution_count": 30,
   "metadata": {},
   "outputs": [],
   "source": [
    "config = Config(\n",
    "    CSV_FILE=\"/home/yapayzeka/ahsen_bulbul/data/cleaned10chunk.csv\",\n",
    "    TOKEN_SIZE=512,\n",
    "    QDRANT_URL=\"http://localhost:6333\",\n",
    "    COLLECTION_NAME=\"try\",\n",
    "    EMBEDDING_DIM=512,\n",
    "    BATCH_SIZE=100\n",
    ")"
   ]
  },
  {
   "cell_type": "code",
   "execution_count": 31,
   "metadata": {},
   "outputs": [
    {
     "name": "stderr",
     "output_type": "stream",
     "text": [
      "Fetching 30 files: 100%|██████████| 30/30 [00:00<00:00, 143640.55it/s]\n"
     ]
    }
   ],
   "source": [
    "qdrant_client = QdrantClient(url=config.QDRANT_URL)\n",
    "bge_model = BGEM3FlagModel(config.BGE_MODEL_NAME, use_fp16=config.USE_FP16, device=config.DEVICE)"
   ]
  },
  {
   "cell_type": "code",
   "execution_count": 32,
   "metadata": {},
   "outputs": [
    {
     "name": "stderr",
     "output_type": "stream",
     "text": [
      "You're using a XLMRobertaTokenizerFast tokenizer. Please note that with a fast tokenizer, using the `__call__` method is faster than using a method to encode the text followed by a call to the `pad` method to get a padded encoding.\n"
     ]
    },
    {
     "data": {
      "text/plain": [
       "{'dense_vecs': array([[-0.03183 ,  0.004234, -0.001104, ..., -0.02583 , -0.0553  ,\n",
       "         -0.000913]], shape=(1, 1024), dtype=float16),\n",
       " 'lexical_weights': [defaultdict(int,\n",
       "              {'9633': np.float16(0.1284),\n",
       "               '36164': np.float16(0.2197),\n",
       "               '118': np.float16(0.1167),\n",
       "               '200990': np.float16(0.304),\n",
       "               '308': np.float16(0.07996),\n",
       "               '169': np.float16(0.1237),\n",
       "               '10593': np.float16(0.1879),\n",
       "               '18': np.float16(0.10645),\n",
       "               '77116': np.float16(0.1637)})],\n",
       " 'colbert_vecs': None}"
      ]
     },
     "execution_count": 32,
     "metadata": {},
     "output_type": "execute_result"
    }
   ],
   "source": [
    "query = \"ihtiyati tedbir tazminat nedir\"\n",
    "embedding = bge_model.encode(\n",
    "    [query],\n",
    "    return_dense=True,\n",
    "    return_sparse=True\n",
    ")\n",
    "embedding"
   ]
  },
  {
   "cell_type": "code",
   "execution_count": 33,
   "metadata": {},
   "outputs": [
    {
     "data": {
      "text/plain": [
       "array([-3.1830e-02,  4.2343e-03, -1.1044e-03, -3.5248e-02, -3.0899e-02,\n",
       "       -2.3285e-02,  6.1737e-02,  4.7607e-03, -2.0790e-03, -3.6285e-02,\n",
       "       -3.6133e-02,  9.4757e-03, -8.3252e-02,  1.9897e-02,  1.8005e-02,\n",
       "        9.8419e-03,  3.5156e-02,  1.0460e-02,  3.9673e-02, -4.5929e-02,\n",
       "       -3.6652e-02, -3.1113e-02, -2.8667e-03,  1.9436e-03, -2.6260e-02,\n",
       "        2.8503e-02,  2.9144e-02,  2.3651e-02,  3.7140e-02, -3.6163e-02,\n",
       "        3.6278e-03, -6.0272e-03, -3.2401e-04,  1.2779e-03, -1.2573e-02,\n",
       "        4.2023e-02, -1.9989e-02, -6.6956e-02, -2.3132e-02,  2.4261e-02,\n",
       "        4.6310e-03,  8.2474e-03,  7.3738e-03, -1.7319e-02,  2.2812e-02,\n",
       "       -4.0405e-02,  6.7635e-03, -2.5833e-02, -1.2917e-02, -4.8218e-02,\n",
       "       -1.0612e-02, -6.2073e-02,  6.2347e-02, -4.8187e-02,  2.5940e-02,\n",
       "        4.1229e-02,  7.4463e-03,  3.0121e-02, -5.2643e-02, -9.0179e-03,\n",
       "       -3.8605e-02, -3.2196e-02, -1.1435e-03, -1.0231e-02,  1.8356e-02,\n",
       "        4.0283e-02, -3.4928e-04,  1.5121e-02, -6.4850e-03, -1.6602e-02,\n",
       "       -3.0258e-02,  2.0889e-02, -2.9202e-03,  2.5558e-02, -4.8828e-02,\n",
       "        1.3237e-02,  5.2734e-02,  3.1433e-02,  1.1589e-02, -1.1597e-02,\n",
       "       -1.1429e-02,  4.1199e-03, -3.5919e-02,  6.4819e-02, -3.8757e-02,\n",
       "        2.1301e-02,  1.9516e-02, -1.5450e-02,  3.0197e-02, -2.1454e-02,\n",
       "       -2.8610e-02, -8.3685e-05,  2.9259e-03, -5.0385e-02, -9.9258e-03,\n",
       "        6.5079e-03, -6.5674e-02, -2.8381e-02,  1.7487e-02,  1.8158e-02,\n",
       "        3.4424e-02,  1.3359e-02,  3.1586e-02, -4.7333e-02,  1.2177e-02,\n",
       "       -4.6814e-02,  1.3977e-02,  4.3671e-02,  1.0071e-02,  4.9591e-03,\n",
       "       -2.6260e-02, -3.0022e-03,  5.6953e-03,  1.3552e-03, -1.6129e-02,\n",
       "        1.8997e-02,  1.1147e-02, -3.3844e-02,  3.5431e-02, -8.2397e-04,\n",
       "        1.5762e-02, -2.7054e-02, -1.6678e-02, -4.8309e-02,  1.5930e-02,\n",
       "       -6.8712e-04,  9.6970e-03, -7.1068e-03,  2.7588e-02,  4.1656e-02,\n",
       "       -1.8616e-03,  2.2339e-02, -2.0081e-02, -1.6983e-02, -5.9265e-02,\n",
       "       -1.4305e-02,  2.9953e-02,  1.5991e-02,  8.5020e-04, -5.9204e-02,\n",
       "        5.7159e-02,  3.4882e-02, -3.1300e-03, -3.6133e-02, -2.4719e-03,\n",
       "       -5.3833e-02,  4.0405e-02, -1.1932e-02,  2.5726e-02,  9.4128e-04,\n",
       "        6.3477e-03,  1.3985e-02, -7.7362e-03, -1.4244e-02,  1.2978e-02,\n",
       "        3.1815e-03, -4.0161e-02, -8.4686e-03,  1.8311e-02,  4.3106e-03,\n",
       "        2.1851e-02,  5.5328e-02, -1.3514e-03, -3.6896e-02, -2.3880e-02,\n",
       "        1.8158e-02,  1.0956e-02,  7.2174e-03, -1.1635e-02,  6.3782e-02,\n",
       "        2.1088e-02, -2.6016e-02,  1.4687e-04, -1.0918e-02,  1.9791e-02,\n",
       "       -1.1078e-02,  2.3804e-02,  4.0474e-03, -3.3630e-02, -1.8494e-02,\n",
       "       -5.2002e-02,  1.7227e-02,  6.7444e-03,  2.3972e-02, -2.3438e-02,\n",
       "        5.2002e-02,  7.4272e-03,  1.9531e-02,  5.9547e-03,  5.7648e-02,\n",
       "        2.4780e-02,  1.4633e-02,  5.4779e-02,  9.0332e-03,  1.3206e-02,\n",
       "       -5.9784e-02,  4.8462e-02, -5.7922e-02,  2.3727e-02,  1.5045e-02,\n",
       "       -2.5803e-02,  1.1246e-02, -1.1673e-03,  1.0574e-02,  4.8790e-03,\n",
       "        1.1635e-03, -3.4485e-02, -4.3182e-03,  2.7817e-02, -8.8318e-02,\n",
       "       -2.9099e-02,  1.0193e-02,  5.1849e-02,  1.5717e-02, -4.8950e-02,\n",
       "       -2.2186e-02,  1.8587e-03, -4.5654e-02, -3.7270e-03,  3.0502e-02,\n",
       "       -5.2429e-02, -1.1314e-02,  1.8799e-02, -9.8724e-03,  2.3560e-02,\n",
       "        3.6346e-02,  1.4061e-02,  3.0472e-02, -1.6308e-03, -3.8849e-02,\n",
       "       -9.1324e-03,  3.8727e-02, -2.4277e-02, -3.5278e-02,  9.1431e-02,\n",
       "        4.3304e-02, -1.3489e-02,  1.2955e-02,  3.8109e-03, -1.1044e-03,\n",
       "       -9.1400e-03,  1.3008e-02, -9.5596e-03,  1.5427e-02, -1.3237e-02,\n",
       "       -2.9327e-02,  2.3102e-02, -6.0997e-03,  3.5048e-04, -1.8463e-02,\n",
       "       -3.7750e-02, -5.5466e-03, -4.8462e-02,  4.6021e-02,  7.0190e-03,\n",
       "        2.7542e-02, -2.1240e-02,  8.8348e-03,  5.6732e-02,  7.5745e-02,\n",
       "       -5.6038e-03,  1.2131e-02,  4.8447e-03,  4.2572e-02,  1.4633e-02,\n",
       "        8.0490e-03, -2.0885e-03,  2.5925e-02,  8.5831e-03, -1.0979e-02,\n",
       "       -1.9501e-02, -5.4535e-02, -1.7075e-02,  3.4210e-02,  1.2955e-02,\n",
       "       -2.5269e-02, -2.7409e-03,  3.6133e-02, -9.5665e-05,  2.7695e-03,\n",
       "       -9.2102e-02,  1.9867e-02,  5.7449e-03, -6.3095e-03, -4.8904e-03,\n",
       "       -2.7466e-03, -4.1534e-02, -4.8637e-03,  3.0243e-02,  2.6443e-02,\n",
       "       -2.2369e-02, -2.9434e-02,  6.8970e-02,  4.5013e-03, -7.9651e-03,\n",
       "        3.4943e-02, -1.7563e-02, -1.6687e-01,  6.2485e-03, -7.6218e-03,\n",
       "        3.6621e-02,  8.2779e-03, -7.9117e-03, -2.9755e-02, -3.1464e-02,\n",
       "       -1.5427e-02,  2.8107e-02,  1.3618e-02, -4.4067e-02,  2.7695e-02,\n",
       "        4.2175e-02,  5.8380e-02, -7.2823e-03,  9.8515e-04,  2.3022e-03,\n",
       "        1.4572e-02, -7.6065e-03, -7.7942e-02, -2.6093e-02,  1.3832e-02,\n",
       "       -1.5900e-02, -7.8583e-03,  3.8513e-02,  9.4482e-02,  2.8809e-02,\n",
       "       -4.1656e-02, -2.5681e-02, -3.9825e-02, -3.6297e-03, -8.5754e-03,\n",
       "        4.3488e-02, -1.7944e-02,  1.0521e-02,  3.2288e-02, -2.9964e-03,\n",
       "        3.7140e-02,  8.5678e-03,  3.1036e-02,  5.4932e-03,  5.4016e-03,\n",
       "        5.8868e-02, -2.5314e-02,  2.3407e-02,  3.1021e-02,  5.8365e-03,\n",
       "       -1.7227e-02,  4.1229e-02, -1.0567e-02,  4.4327e-03,  1.8219e-02,\n",
       "       -1.6556e-02, -5.1758e-02, -4.0924e-02,  5.1117e-02,  8.8562e-02,\n",
       "        3.4561e-03,  2.4891e-03, -6.0486e-02, -3.3356e-02,  1.2077e-02,\n",
       "        3.6240e-03, -2.5578e-03, -6.9458e-02,  2.6886e-02,  2.8442e-02,\n",
       "       -2.0332e-03,  6.7444e-03, -2.8107e-02, -1.8448e-02, -1.9211e-02,\n",
       "       -3.7537e-02, -2.6340e-03,  3.0548e-02, -1.8021e-02, -9.9258e-03,\n",
       "       -6.3057e-03, -1.3086e-01,  2.0695e-03,  2.7893e-02,  9.8495e-03,\n",
       "        8.0948e-03, -5.1956e-03, -7.4707e-02,  1.7609e-02,  3.6194e-02,\n",
       "       -2.9907e-02,  1.9836e-01, -1.4420e-02,  2.9739e-02,  3.2158e-03,\n",
       "       -4.3488e-02, -3.9642e-02, -3.0823e-02, -3.7445e-02,  2.6493e-03,\n",
       "       -2.3651e-02, -7.7087e-02, -2.7588e-02,  8.6441e-03,  3.3569e-02,\n",
       "       -3.4332e-02, -2.1973e-03, -1.0811e-02, -1.9135e-02,  6.2500e-02,\n",
       "       -3.9642e-02,  3.6011e-02, -2.1454e-02, -3.3150e-03,  1.6083e-02,\n",
       "       -6.7673e-03, -8.1003e-05,  2.7161e-02,  8.7036e-02, -5.2429e-02,\n",
       "       -5.2605e-03, -3.7231e-02, -3.8635e-02,  4.6265e-02, -2.6535e-02,\n",
       "       -2.9343e-02,  2.9964e-03, -6.5430e-02, -1.8387e-02, -4.0283e-02,\n",
       "        6.2752e-03,  6.8359e-03, -6.8169e-03,  1.2802e-02,  5.4512e-03,\n",
       "        4.9438e-02,  2.4734e-02, -5.6671e-02, -3.6499e-02, -1.2627e-03,\n",
       "       -1.4938e-02,  4.6844e-02,  4.3671e-02, -3.9062e-02,  2.4307e-02,\n",
       "       -6.2866e-03, -2.4548e-03, -3.1113e-02, -5.8403e-03,  1.3626e-04,\n",
       "       -1.8768e-02,  4.7729e-02, -7.0496e-03, -6.8092e-03, -2.8717e-02,\n",
       "        4.9171e-03,  1.3725e-02, -1.9211e-02,  1.6663e-02,  1.0071e-02,\n",
       "        2.6016e-02, -5.5199e-03,  1.5373e-02,  3.2024e-03, -1.9394e-02,\n",
       "        3.6377e-02, -6.0558e-04,  1.9522e-03,  5.4077e-02,  2.8061e-02,\n",
       "        3.3112e-03, -4.8950e-02,  2.1286e-02, -4.1504e-02,  1.9372e-05,\n",
       "        2.8183e-02,  1.0658e-02, -4.2847e-02, -9.6130e-03, -5.0316e-03,\n",
       "        1.8967e-02, -6.1340e-03,  5.5466e-03,  2.1851e-02, -7.3969e-05,\n",
       "       -2.1393e-02,  4.4525e-02,  2.8030e-02, -5.8403e-03, -5.1147e-02,\n",
       "       -1.4038e-02, -1.2627e-02, -3.6888e-03,  1.5900e-02, -5.7907e-03,\n",
       "        2.2003e-02, -5.7640e-03,  1.5991e-02,  3.8361e-02, -4.4281e-02,\n",
       "       -1.2732e-03,  5.4550e-04,  1.4267e-02, -6.6414e-03, -3.1830e-02,\n",
       "        3.8116e-02,  5.7281e-02,  1.3306e-02,  2.7573e-02,  3.0701e-02,\n",
       "        1.3451e-02, -5.6915e-02,  3.1830e-02, -2.0657e-03,  1.6525e-02,\n",
       "        5.3101e-03, -7.7019e-03], dtype=float16)"
      ]
     },
     "execution_count": 33,
     "metadata": {},
     "output_type": "execute_result"
    }
   ],
   "source": [
    "q_dense = embedding.get(\"dense_vecs\", [[0.0]*config.EMBEDDING_DIM])[0]\n",
    "q_dense = q_dense[:config.EMBEDDING_DIM]\n",
    "q_dense"
   ]
  },
  {
   "cell_type": "code",
   "execution_count": null,
   "metadata": {},
   "outputs": [
    {
     "name": "stdout",
     "output_type": "stream",
     "text": [
      "[0.]\n"
     ]
    },
    {
     "data": {
      "text/plain": [
       "<rank_bm25.BM25Okapi at 0x76e3fed18a60>"
      ]
     },
     "execution_count": 35,
     "metadata": {},
     "output_type": "execute_result"
    }
   ],
   "source": [
    "\n",
    "corpus = [\n",
    "    \"bugün hava çok  güzel ve güneşli \"\n",
    "]\n",
    "bm25 = BM25Okapi(corpus)\n",
    "\n",
    "qry = [query]\n",
    "scores = bm25.get_scores(qry)\n",
    "print(scores)\n",
    "bm25"
   ]
  },
  {
   "cell_type": "code",
   "execution_count": null,
   "metadata": {},
   "outputs": [],
   "source": [
    "corpus = [\n",
    "    \"bugün hava çok o güzel ve güneşli jslkgvj dkvdfnjfnv aaaaa\"\n",
    "]\n",
    "vectorizer = TfidfVectorizer()\n",
    "X_sparse = vectorizer.fit_transform(corpus)\n",
    "sparse_vectors = []\n",
    "for row in X_sparse:\n",
    "    row_coo = row.tocoo()\n",
    "    sparse_vectors.append({\"indices\": row_coo.col.tolist(), \"values\": row_coo.data.tolist()})\n",
    "\n",
    "sparse_vectors"
   ]
  },
  {
   "cell_type": "code",
   "execution_count": null,
   "metadata": {},
   "outputs": [],
   "source": [
    "x_sparse = vectorizer.fit_transform([query])  # sadece sorgu texti\n",
    "row = x_sparse[0].tocoo()\n",
    "\n",
    "sparse_vector = NamedSparseVector(\n",
    "    name=\"sparse_vec\",\n",
    "    vector=SparseVector(\n",
    "        indices=row.col.tolist(),\n",
    "        values=row.data.tolist()\n",
    "    )\n",
    ")"
   ]
  },
  {
   "cell_type": "code",
   "execution_count": null,
   "metadata": {},
   "outputs": [],
   "source": [
    "query_dense = NamedVector(name=\"dense_vec\",vector=q_dense)\n",
    "#sparse_vector = NamedVector(name=\"sparse_vec\",vetor=sparse_vectors)"
   ]
  },
  {
   "cell_type": "code",
   "execution_count": null,
   "metadata": {},
   "outputs": [],
   "source": [
    "search_result = qdrant_client.query_points(\n",
    "    collection_name=config.COLLECTION_NAME,\n",
    "    prefetch=[\n",
    "        models.Prefetch(\n",
    "            query = sparse_vector,\n",
    "            using = \"sparse_vec\",\n",
    "            \n",
    "            limit = 5,\n",
    "        ),\n",
    "        models.Prefetch(\n",
    "            query = query_dense,\n",
    "            using = \"dense_vec\",\n",
    "            \n",
    "            limit = 5\n",
    "        ),\n",
    "    ],\n",
    "    query=FusionQuery(fusion=Fusion.RRF),  \n",
    "    \n",
    "\n",
    ")"
   ]
  },
  {
   "cell_type": "code",
   "execution_count": null,
   "metadata": {},
   "outputs": [],
   "source": [
    "search_result = qdrant_client.query_points(\n",
    "    collection_name=config.COLLECTION_NAME,\n",
    "    prefetch=prefetch,\n",
    "    query=FusionQuery(fusion=Fusion.RRF),  # RRF fusion\n",
    "    limit=5,\n",
    "    score_threshold=0.6,\n",
    "    with_payload=True\n",
    ")"
   ]
  }
 ],
 "metadata": {
  "kernelspec": {
   "display_name": "ahsen",
   "language": "python",
   "name": "python3"
  },
  "language_info": {
   "codemirror_mode": {
    "name": "ipython",
    "version": 3
   },
   "file_extension": ".py",
   "mimetype": "text/x-python",
   "name": "python",
   "nbconvert_exporter": "python",
   "pygments_lexer": "ipython3",
   "version": "3.10.12"
  }
 },
 "nbformat": 4,
 "nbformat_minor": 2
}
