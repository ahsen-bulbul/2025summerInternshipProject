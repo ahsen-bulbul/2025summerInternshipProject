{
 "cells": [
  {
   "cell_type": "code",
   "execution_count": null,
   "metadata": {},
   "outputs": [],
   "source": [
    "from config import Config\n",
    "from pipeline import YargitayPipeline\n",
    "import pandas as pd\n",
    "import json\n",
    "from processor import YargitaySemanticProcessor\n",
    "\n",
    "def main():\n",
    "    config = Config(\n",
    "        CSV_FILE=\"/home/yapayzeka/ahsen_bulbul/data/cleaned10chunk.csv\",\n",
    "        TOKEN_SIZE=512,\n",
    "        QDRANT_URL=\"http://localhost:6333\",\n",
    "        COLLECTION_NAME=\"fastembed\",\n",
    "        EMBEDDING_DIM=512,\n",
    "        BATCH_SIZE=100\n",
    "    )\n",
    "    pipeline = YargitayPipeline(config)\n",
    "\n",
    "    while True:\n",
    "        print(\"\\n\" + \"=\"*60)\n",
    "        print(\"🏛️ YARGITAY KARARLARI SORGU SİSTEMİ\")\n",
    "        print(\"=\"*60)\n",
    "        print(\"1) Full pipeline çalıştır (CSV -> chunks -> embed -> qdrant)\")\n",
    "        print(\"2) İnteraktif arama\")\n",
    "        print(\"3) Koleksiyon bilgilerini göster\")\n",
    "        print(\"4) Çıkış\")\n",
    "        choice = input(\"Seçiminiz (1-4): \").strip()\n",
    "        if choice==\"1\":\n",
    "            csv_path = input(f\"CSV yolu (enter ile default: {config.CSV_FILE}): \").strip() or config.CSV_FILE\n",
    "            pipeline.full_pipeline(csv_path)\n",
    "        elif choice==\"2\":\n",
    "            pipeline.interactive_search()\n",
    "        elif choice==\"3\":\n",
    "            info = pipeline.processor.get_collection_info()\n",
    "            print(json.dumps(info, indent=2, ensure_ascii=False))\n",
    "        elif choice==\"4\":\n",
    "            pipeline.semantic()\n",
    "        elif choice==\"5\":\n",
    "            print(\"👋 Görüşürüz\")\n",
    "            break\n",
    "        else:\n",
    "            print(\"❌ Geçersiz seçim\")\n",
    "\n",
    "if __name__ == \"__main__\":\n",
    "    main()\n"
   ]
  },
  {
   "cell_type": "code",
   "execution_count": null,
   "metadata": {},
   "outputs": [
    {
     "name": "stderr",
     "output_type": "stream",
     "text": [
      "/home/yapayzeka/ahsen_bulbul/ahsen/lib/python3.10/site-packages/tqdm/auto.py:21: TqdmWarning: IProgress not found. Please update jupyter and ipywidgets. See https://ipywidgets.readthedocs.io/en/stable/user_install.html\n",
      "  from .autonotebook import tqdm as notebook_tqdm\n"
     ]
    }
   ],
   "source": [
    "from config import Config\n",
    "from qdrant_client import QdrantClient, models\n",
    "from FlagEmbedding import BGEM3FlagModel\n",
    "from qdrant_client. models import  Prefetch, FusionQuery, Fusion, NamedVector, NamedSparseVector, SparseVector\n",
    "from sklearn.feature_extraction.text import TfidfVectorizer\n",
    "#from rank_bm25 import BM25Okapi\n",
    "from fastembed import SparseTextEmbedding, SparseEmbedding"
   ]
  },
  {
   "cell_type": "code",
   "execution_count": 16,
   "metadata": {},
   "outputs": [
    {
     "ename": "AttributeError",
     "evalue": "'QdrantClient' object has no attribute 'get_liveness'",
     "output_type": "error",
     "traceback": [
      "\u001b[0;31m---------------------------------------------------------------------------\u001b[0m",
      "\u001b[0;31mAttributeError\u001b[0m                            Traceback (most recent call last)",
      "Cell \u001b[0;32mIn[16], line 5\u001b[0m\n\u001b[1;32m      1\u001b[0m \u001b[38;5;28;01mfrom\u001b[39;00m\u001b[38;5;250m \u001b[39m\u001b[38;5;21;01mqdrant_client\u001b[39;00m\u001b[38;5;250m \u001b[39m\u001b[38;5;28;01mimport\u001b[39;00m QdrantClient\n\u001b[1;32m      3\u001b[0m client \u001b[38;5;241m=\u001b[39m QdrantClient(url\u001b[38;5;241m=\u001b[39m\u001b[38;5;124m\"\u001b[39m\u001b[38;5;124mhttp://localhost:6333\u001b[39m\u001b[38;5;124m\"\u001b[39m)\n\u001b[0;32m----> 5\u001b[0m info \u001b[38;5;241m=\u001b[39m \u001b[43mclient\u001b[49m\u001b[38;5;241;43m.\u001b[39;49m\u001b[43mget_liveness\u001b[49m()\n\u001b[1;32m      6\u001b[0m \u001b[38;5;28mprint\u001b[39m(info)\n\u001b[1;32m      8\u001b[0m version \u001b[38;5;241m=\u001b[39m client\u001b[38;5;241m.\u001b[39mopenapi_client\u001b[38;5;241m.\u001b[39mapi_client\u001b[38;5;241m.\u001b[39mconfiguration\u001b[38;5;241m.\u001b[39muser_agent\n",
      "\u001b[0;31mAttributeError\u001b[0m: 'QdrantClient' object has no attribute 'get_liveness'"
     ]
    }
   ],
   "source": [
    "from qdrant_client import QdrantClient\n",
    "\n",
    "client = QdrantClient(url=\"http://localhost:6333\")\n",
    "\n",
    "info = client.get_liveness()\n",
    "print(info)\n",
    "\n",
    "version = client.openapi_client.api_client.configuration.user_agent\n",
    "print(\"Client User-Agent:\", version)\n"
   ]
  },
  {
   "cell_type": "code",
   "execution_count": null,
   "metadata": {},
   "outputs": [],
   "source": [
    "SparseTextEmbedding.list_supported_models()"
   ]
  },
  {
   "cell_type": "code",
   "execution_count": 2,
   "metadata": {},
   "outputs": [],
   "source": [
    "model_name = \"Qdrant/bm25\"\n",
    "# This triggers the model download\n",
    "model = SparseTextEmbedding(model_name=model_name)\n"
   ]
  },
  {
   "cell_type": "code",
   "execution_count": 3,
   "metadata": {},
   "outputs": [
    {
     "data": {
      "text/plain": [
       "[SparseEmbedding(values=array([1.66528681, 1.66528681, 1.66528681, 1.66528681, 1.66528681,\n",
       "        1.66528681]), indices=array([ 965556987,  264741300, 1844140545, 1391639301, 2042792262,\n",
       "        1318831999]))]"
      ]
     },
     "execution_count": 3,
     "metadata": {},
     "output_type": "execute_result"
    }
   ],
   "source": [
    "documents = [\n",
    "    \"Chandrayaan-3 is India's third lunar mission\"\n",
    "]\n",
    "sparse_embeddings_list: list[SparseEmbedding] = list(\n",
    "    model.embed(documents, batch_size=6)\n",
    ")\n",
    "sparse_embeddings_list"
   ]
  },
  {
   "cell_type": "code",
   "execution_count": 4,
   "metadata": {},
   "outputs": [],
   "source": [
    "config = Config(\n",
    "    CSV_FILE=\"/home/yapayzeka/ahsen_bulbul/data/cleaned10chunk.csv\",\n",
    "    TOKEN_SIZE=512,\n",
    "    QDRANT_URL=\"http://localhost:6333\",\n",
    "    COLLECTION_NAME=\"fastembed\",\n",
    "    EMBEDDING_DIM=512,\n",
    "    BATCH_SIZE=100\n",
    ")"
   ]
  },
  {
   "cell_type": "code",
   "execution_count": 5,
   "metadata": {},
   "outputs": [
    {
     "name": "stderr",
     "output_type": "stream",
     "text": [
      "Fetching 30 files: 100%|██████████| 30/30 [00:00<00:00, 275941.05it/s]\n"
     ]
    }
   ],
   "source": [
    "qdrant_client = QdrantClient(url=config.QDRANT_URL)\n",
    "bge_model = BGEM3FlagModel(config.BGE_MODEL_NAME, use_fp16=config.USE_FP16, device=config.DEVICE)"
   ]
  },
  {
   "cell_type": "code",
   "execution_count": 6,
   "metadata": {},
   "outputs": [
    {
     "name": "stderr",
     "output_type": "stream",
     "text": [
      "You're using a XLMRobertaTokenizerFast tokenizer. Please note that with a fast tokenizer, using the `__call__` method is faster than using a method to encode the text followed by a call to the `pad` method to get a padded encoding.\n"
     ]
    },
    {
     "data": {
      "text/plain": [
       "{'dense_vecs': array([[-0.03183 ,  0.004234, -0.001104, ..., -0.02583 , -0.0553  ,\n",
       "         -0.000913]], shape=(1, 1024), dtype=float16),\n",
       " 'lexical_weights': [defaultdict(int,\n",
       "              {'9633': np.float16(0.1284),\n",
       "               '36164': np.float16(0.2197),\n",
       "               '118': np.float16(0.1167),\n",
       "               '200990': np.float16(0.304),\n",
       "               '308': np.float16(0.07996),\n",
       "               '169': np.float16(0.1237),\n",
       "               '10593': np.float16(0.1879),\n",
       "               '18': np.float16(0.10645),\n",
       "               '77116': np.float16(0.1637)})],\n",
       " 'colbert_vecs': None}"
      ]
     },
     "execution_count": 6,
     "metadata": {},
     "output_type": "execute_result"
    }
   ],
   "source": [
    "query = \"ihtiyati tedbir tazminat nedir\"\n",
    "embedding = bge_model.encode(\n",
    "    [query],\n",
    "    return_dense=True,\n",
    "    return_sparse=True\n",
    ")\n",
    "embedding"
   ]
  },
  {
   "cell_type": "code",
   "execution_count": 7,
   "metadata": {},
   "outputs": [
    {
     "data": {
      "text/plain": [
       "array([-3.1830e-02,  4.2343e-03, -1.1044e-03, -3.5248e-02, -3.0899e-02,\n",
       "       -2.3285e-02,  6.1737e-02,  4.7607e-03, -2.0790e-03, -3.6285e-02,\n",
       "       -3.6133e-02,  9.4757e-03, -8.3252e-02,  1.9897e-02,  1.8005e-02,\n",
       "        9.8419e-03,  3.5156e-02,  1.0460e-02,  3.9673e-02, -4.5929e-02,\n",
       "       -3.6652e-02, -3.1113e-02, -2.8667e-03,  1.9436e-03, -2.6260e-02,\n",
       "        2.8503e-02,  2.9144e-02,  2.3651e-02,  3.7140e-02, -3.6163e-02,\n",
       "        3.6278e-03, -6.0272e-03, -3.2401e-04,  1.2779e-03, -1.2573e-02,\n",
       "        4.2023e-02, -1.9989e-02, -6.6956e-02, -2.3132e-02,  2.4261e-02,\n",
       "        4.6310e-03,  8.2474e-03,  7.3738e-03, -1.7319e-02,  2.2812e-02,\n",
       "       -4.0405e-02,  6.7635e-03, -2.5833e-02, -1.2917e-02, -4.8218e-02,\n",
       "       -1.0612e-02, -6.2073e-02,  6.2347e-02, -4.8187e-02,  2.5940e-02,\n",
       "        4.1229e-02,  7.4463e-03,  3.0121e-02, -5.2643e-02, -9.0179e-03,\n",
       "       -3.8605e-02, -3.2196e-02, -1.1435e-03, -1.0231e-02,  1.8356e-02,\n",
       "        4.0283e-02, -3.4928e-04,  1.5121e-02, -6.4850e-03, -1.6602e-02,\n",
       "       -3.0258e-02,  2.0889e-02, -2.9202e-03,  2.5558e-02, -4.8828e-02,\n",
       "        1.3237e-02,  5.2734e-02,  3.1433e-02,  1.1589e-02, -1.1597e-02,\n",
       "       -1.1429e-02,  4.1199e-03, -3.5919e-02,  6.4819e-02, -3.8757e-02,\n",
       "        2.1301e-02,  1.9516e-02, -1.5450e-02,  3.0197e-02, -2.1454e-02,\n",
       "       -2.8610e-02, -8.3685e-05,  2.9259e-03, -5.0385e-02, -9.9258e-03,\n",
       "        6.5079e-03, -6.5674e-02, -2.8381e-02,  1.7487e-02,  1.8158e-02,\n",
       "        3.4424e-02,  1.3359e-02,  3.1586e-02, -4.7333e-02,  1.2177e-02,\n",
       "       -4.6814e-02,  1.3977e-02,  4.3671e-02,  1.0071e-02,  4.9591e-03,\n",
       "       -2.6260e-02, -3.0022e-03,  5.6953e-03,  1.3552e-03, -1.6129e-02,\n",
       "        1.8997e-02,  1.1147e-02, -3.3844e-02,  3.5431e-02, -8.2397e-04,\n",
       "        1.5762e-02, -2.7054e-02, -1.6678e-02, -4.8309e-02,  1.5930e-02,\n",
       "       -6.8712e-04,  9.6970e-03, -7.1068e-03,  2.7588e-02,  4.1656e-02,\n",
       "       -1.8616e-03,  2.2339e-02, -2.0081e-02, -1.6983e-02, -5.9265e-02,\n",
       "       -1.4305e-02,  2.9953e-02,  1.5991e-02,  8.5020e-04, -5.9204e-02,\n",
       "        5.7159e-02,  3.4882e-02, -3.1300e-03, -3.6133e-02, -2.4719e-03,\n",
       "       -5.3833e-02,  4.0405e-02, -1.1932e-02,  2.5726e-02,  9.4128e-04,\n",
       "        6.3477e-03,  1.3985e-02, -7.7362e-03, -1.4244e-02,  1.2978e-02,\n",
       "        3.1815e-03, -4.0161e-02, -8.4686e-03,  1.8311e-02,  4.3106e-03,\n",
       "        2.1851e-02,  5.5328e-02, -1.3514e-03, -3.6896e-02, -2.3880e-02,\n",
       "        1.8158e-02,  1.0956e-02,  7.2174e-03, -1.1635e-02,  6.3782e-02,\n",
       "        2.1088e-02, -2.6016e-02,  1.4687e-04, -1.0918e-02,  1.9791e-02,\n",
       "       -1.1078e-02,  2.3804e-02,  4.0474e-03, -3.3630e-02, -1.8494e-02,\n",
       "       -5.2002e-02,  1.7227e-02,  6.7444e-03,  2.3972e-02, -2.3438e-02,\n",
       "        5.2002e-02,  7.4272e-03,  1.9531e-02,  5.9547e-03,  5.7648e-02,\n",
       "        2.4780e-02,  1.4633e-02,  5.4779e-02,  9.0332e-03,  1.3206e-02,\n",
       "       -5.9784e-02,  4.8462e-02, -5.7922e-02,  2.3727e-02,  1.5045e-02,\n",
       "       -2.5803e-02,  1.1246e-02, -1.1673e-03,  1.0574e-02,  4.8790e-03,\n",
       "        1.1635e-03, -3.4485e-02, -4.3182e-03,  2.7817e-02, -8.8318e-02,\n",
       "       -2.9099e-02,  1.0193e-02,  5.1849e-02,  1.5717e-02, -4.8950e-02,\n",
       "       -2.2186e-02,  1.8587e-03, -4.5654e-02, -3.7270e-03,  3.0502e-02,\n",
       "       -5.2429e-02, -1.1314e-02,  1.8799e-02, -9.8724e-03,  2.3560e-02,\n",
       "        3.6346e-02,  1.4061e-02,  3.0472e-02, -1.6308e-03, -3.8849e-02,\n",
       "       -9.1324e-03,  3.8727e-02, -2.4277e-02, -3.5278e-02,  9.1431e-02,\n",
       "        4.3304e-02, -1.3489e-02,  1.2955e-02,  3.8109e-03, -1.1044e-03,\n",
       "       -9.1400e-03,  1.3008e-02, -9.5596e-03,  1.5427e-02, -1.3237e-02,\n",
       "       -2.9327e-02,  2.3102e-02, -6.0997e-03,  3.5048e-04, -1.8463e-02,\n",
       "       -3.7750e-02, -5.5466e-03, -4.8462e-02,  4.6021e-02,  7.0190e-03,\n",
       "        2.7542e-02, -2.1240e-02,  8.8348e-03,  5.6732e-02,  7.5745e-02,\n",
       "       -5.6038e-03,  1.2131e-02,  4.8447e-03,  4.2572e-02,  1.4633e-02,\n",
       "        8.0490e-03, -2.0885e-03,  2.5925e-02,  8.5831e-03, -1.0979e-02,\n",
       "       -1.9501e-02, -5.4535e-02, -1.7075e-02,  3.4210e-02,  1.2955e-02,\n",
       "       -2.5269e-02, -2.7409e-03,  3.6133e-02, -9.5665e-05,  2.7695e-03,\n",
       "       -9.2102e-02,  1.9867e-02,  5.7449e-03, -6.3095e-03, -4.8904e-03,\n",
       "       -2.7466e-03, -4.1534e-02, -4.8637e-03,  3.0243e-02,  2.6443e-02,\n",
       "       -2.2369e-02, -2.9434e-02,  6.8970e-02,  4.5013e-03, -7.9651e-03,\n",
       "        3.4943e-02, -1.7563e-02, -1.6687e-01,  6.2485e-03, -7.6218e-03,\n",
       "        3.6621e-02,  8.2779e-03, -7.9117e-03, -2.9755e-02, -3.1464e-02,\n",
       "       -1.5427e-02,  2.8107e-02,  1.3618e-02, -4.4067e-02,  2.7695e-02,\n",
       "        4.2175e-02,  5.8380e-02, -7.2823e-03,  9.8515e-04,  2.3022e-03,\n",
       "        1.4572e-02, -7.6065e-03, -7.7942e-02, -2.6093e-02,  1.3832e-02,\n",
       "       -1.5900e-02, -7.8583e-03,  3.8513e-02,  9.4482e-02,  2.8809e-02,\n",
       "       -4.1656e-02, -2.5681e-02, -3.9825e-02, -3.6297e-03, -8.5754e-03,\n",
       "        4.3488e-02, -1.7944e-02,  1.0521e-02,  3.2288e-02, -2.9964e-03,\n",
       "        3.7140e-02,  8.5678e-03,  3.1036e-02,  5.4932e-03,  5.4016e-03,\n",
       "        5.8868e-02, -2.5314e-02,  2.3407e-02,  3.1021e-02,  5.8365e-03,\n",
       "       -1.7227e-02,  4.1229e-02, -1.0567e-02,  4.4327e-03,  1.8219e-02,\n",
       "       -1.6556e-02, -5.1758e-02, -4.0924e-02,  5.1117e-02,  8.8562e-02,\n",
       "        3.4561e-03,  2.4891e-03, -6.0486e-02, -3.3356e-02,  1.2077e-02,\n",
       "        3.6240e-03, -2.5578e-03, -6.9458e-02,  2.6886e-02,  2.8442e-02,\n",
       "       -2.0332e-03,  6.7444e-03, -2.8107e-02, -1.8448e-02, -1.9211e-02,\n",
       "       -3.7537e-02, -2.6340e-03,  3.0548e-02, -1.8021e-02, -9.9258e-03,\n",
       "       -6.3057e-03, -1.3086e-01,  2.0695e-03,  2.7893e-02,  9.8495e-03,\n",
       "        8.0948e-03, -5.1956e-03, -7.4707e-02,  1.7609e-02,  3.6194e-02,\n",
       "       -2.9907e-02,  1.9836e-01, -1.4420e-02,  2.9739e-02,  3.2158e-03,\n",
       "       -4.3488e-02, -3.9642e-02, -3.0823e-02, -3.7445e-02,  2.6493e-03,\n",
       "       -2.3651e-02, -7.7087e-02, -2.7588e-02,  8.6441e-03,  3.3569e-02,\n",
       "       -3.4332e-02, -2.1973e-03, -1.0811e-02, -1.9135e-02,  6.2500e-02,\n",
       "       -3.9642e-02,  3.6011e-02, -2.1454e-02, -3.3150e-03,  1.6083e-02,\n",
       "       -6.7673e-03, -8.1003e-05,  2.7161e-02,  8.7036e-02, -5.2429e-02,\n",
       "       -5.2605e-03, -3.7231e-02, -3.8635e-02,  4.6265e-02, -2.6535e-02,\n",
       "       -2.9343e-02,  2.9964e-03, -6.5430e-02, -1.8387e-02, -4.0283e-02,\n",
       "        6.2752e-03,  6.8359e-03, -6.8169e-03,  1.2802e-02,  5.4512e-03,\n",
       "        4.9438e-02,  2.4734e-02, -5.6671e-02, -3.6499e-02, -1.2627e-03,\n",
       "       -1.4938e-02,  4.6844e-02,  4.3671e-02, -3.9062e-02,  2.4307e-02,\n",
       "       -6.2866e-03, -2.4548e-03, -3.1113e-02, -5.8403e-03,  1.3626e-04,\n",
       "       -1.8768e-02,  4.7729e-02, -7.0496e-03, -6.8092e-03, -2.8717e-02,\n",
       "        4.9171e-03,  1.3725e-02, -1.9211e-02,  1.6663e-02,  1.0071e-02,\n",
       "        2.6016e-02, -5.5199e-03,  1.5373e-02,  3.2024e-03, -1.9394e-02,\n",
       "        3.6377e-02, -6.0558e-04,  1.9522e-03,  5.4077e-02,  2.8061e-02,\n",
       "        3.3112e-03, -4.8950e-02,  2.1286e-02, -4.1504e-02,  1.9372e-05,\n",
       "        2.8183e-02,  1.0658e-02, -4.2847e-02, -9.6130e-03, -5.0316e-03,\n",
       "        1.8967e-02, -6.1340e-03,  5.5466e-03,  2.1851e-02, -7.3969e-05,\n",
       "       -2.1393e-02,  4.4525e-02,  2.8030e-02, -5.8403e-03, -5.1147e-02,\n",
       "       -1.4038e-02, -1.2627e-02, -3.6888e-03,  1.5900e-02, -5.7907e-03,\n",
       "        2.2003e-02, -5.7640e-03,  1.5991e-02,  3.8361e-02, -4.4281e-02,\n",
       "       -1.2732e-03,  5.4550e-04,  1.4267e-02, -6.6414e-03, -3.1830e-02,\n",
       "        3.8116e-02,  5.7281e-02,  1.3306e-02,  2.7573e-02,  3.0701e-02,\n",
       "        1.3451e-02, -5.6915e-02,  3.1830e-02, -2.0657e-03,  1.6525e-02,\n",
       "        5.3101e-03, -7.7019e-03], dtype=float16)"
      ]
     },
     "execution_count": 7,
     "metadata": {},
     "output_type": "execute_result"
    }
   ],
   "source": [
    "q_dense = embedding.get(\"dense_vecs\", [[0.0]*config.EMBEDDING_DIM])[0]\n",
    "q_dense = q_dense[:config.EMBEDDING_DIM]\n",
    "q_dense"
   ]
  },
  {
   "cell_type": "code",
   "execution_count": 8,
   "metadata": {},
   "outputs": [
    {
     "data": {
      "text/plain": [
       "[SparseEmbedding(values=array([1.67419738, 1.67419738, 1.67419738, 1.67419738]), indices=array([2028035748, 2142705205, 1415228695, 1130420785]))]"
      ]
     },
     "execution_count": 8,
     "metadata": {},
     "output_type": "execute_result"
    }
   ],
   "source": [
    "sparse_embeddings_list: list[SparseEmbedding] = list(\n",
    "    model.embed(query, batch_size=6)\n",
    ")\n",
    "\n",
    "sparse_embeddings_list"
   ]
  },
  {
   "cell_type": "code",
   "execution_count": 10,
   "metadata": {},
   "outputs": [
    {
     "data": {
      "text/plain": [
       "SparseVector(indices=[2028035748, 2142705205, 1415228695, 1130420785], values=[1.6741973840665876, 1.6741973840665876, 1.6741973840665876, 1.6741973840665876])"
      ]
     },
     "execution_count": 10,
     "metadata": {},
     "output_type": "execute_result"
    }
   ],
   "source": [
    "q_dense  # örn: [0.12, 0.53, ...]\n",
    "\n",
    "# Sparse vektör\n",
    "query_sparse = sparse_embeddings_list[0]  # SparseEmbedding\n",
    "query_sparse_vector = SparseVector(\n",
    "    indices=query_sparse.indices.tolist(),\n",
    "    values=query_sparse.values.tolist()\n",
    ")\n",
    "query_sparse_vector"
   ]
  },
  {
   "cell_type": "code",
   "execution_count": 11,
   "metadata": {},
   "outputs": [
    {
     "data": {
      "text/plain": [
       "QueryResponse(points=[ScoredPoint(id='1857cecb-b515-447f-81d3-49f295ca9504', version=0, score=0.6558261, payload={'chunk_id': 10, 'text': '3. Değerlendirme Mahkemece, tazminat davalısının ödemekle yükümlü olduğu miktarın uyulmasına karar verilen Yargıtay ilamında da belirtildiği üzer ihtiyati tedbir kararının icra edildiği tarih ile ihtiyati tedbirin kalktığı ya da kalkmış sayıldığı tarih arasındaki zarar olduğu, ihtiyati tedbir kararının kalkmış sayıldığı tarih ile icra edildiği tarihin aynı olduğu, arada süre zarfı bulunmaması nedeniyle yapılması talep edilen keşifte yoksun kalınan kira kaybına ilişkin hesaplama yapılamayacağından yargılamaya bir katkı sağlamayacağı kanaatine varılarak davanın reddine karar verildiği, somut olayda; 05.01.2010 tarihinde tedbirin icra edildiği, 14.01.2010 tarihinde ise kaldırıldığı anlaşılmaktadır. Bu durumda mahkemece ihtiyati tedbir kararının kalkmış sayıldığı tarih ile icra edildiği tarihin aynı olduğuna dair karar hatalı olup, 05.01.2010 tarihi ile 14.01.2010 tarihleri arasında davacının maddi zararlarını ve illiyet bağını ispat imkanı tanınması ve sonucuna göre karar verilmesi gerekirken, davanın reddine karar verilmesi hatalı olmuş, kararın bozulmasına karar verilmiştir. VI.', 'token_count': 431, 'char_count': 1094, 'original_index': 1, 'esas_no': '2022/3281 E.', 'karar_no': '2024/117 K.', 'daire': '6.HukukDairesisi', 'tarih': '30.12.2011,26.06.2009,25.12.2009,04.01.2010,05.01.2010,12.01.2010,04.06.2013,25.12.2009,31.12.2009,04.01.2010,05.01.2010,08.01.2010,13.01.2010,05.01.2010,14.01.2010,05.01.2010,14.01.2010,11.01.2024', 'document_id': '6750524485b6640290c37b07'}, vector=None, shard_key=None, order_value=None), ScoredPoint(id='43744b30-6167-4afd-92de-81131348fa74', version=0, score=0.64281845, payload={'chunk_id': 6, 'text': \"maddesi hükmüne aykırı olarak ihtiyati tedbire ilişkin karar tarihinden itibaren 10 gün içinde dava açılmamış olduğu, haksız ihtiyati tedbirden dolayı olan sorumluluğun kusursuz sorumluluk olduğu, yani, haksız ihtiyati tedbir koydurtmuş olan tarafın, bundan doğan maddi zararla sorumlu tutulabilmesi için, ihtiyati tedbiri kötüniyetle istemiş ve koydurmuş olması veya bunda herhangi bir ihmalinin bulunmasının şart olmadığı, ihtiyati tedbir haksız ve bundan da bir zarar doğmuş ise, bu haksız ihtiyati tedbiri koydurtmuş olan tarafın kusurlu olmasa bile bundan zarar gören karşı tarafa veya üçüncü kişiye tazminat ödemekle yükümlü olduğu, ihtiyati tedbir isteyen ve bu kararı icra ettiren kişinin, ihtiyati tedbiri icra ettirdiği halde, HUMK'un 109.\", 'token_count': 290, 'char_count': 749, 'original_index': 1, 'esas_no': '2022/3281 E.', 'karar_no': '2024/117 K.', 'daire': '6.HukukDairesisi', 'tarih': '30.12.2011,26.06.2009,25.12.2009,04.01.2010,05.01.2010,12.01.2010,04.06.2013,25.12.2009,31.12.2009,04.01.2010,05.01.2010,08.01.2010,13.01.2010,05.01.2010,14.01.2010,05.01.2010,14.01.2010,11.01.2024', 'document_id': '6750524485b6640290c37b07'}, vector=None, shard_key=None, order_value=None), ScoredPoint(id='8c6efe33-adfd-4a4a-949e-444a5620ad1b', version=0, score=0.61943275, payload={'chunk_id': 0, 'text': '6. Hukuk Dairesi 2022/3281 E. , 2024/117 K. \\\\n \"İçtihat Metni\" MAHKEMESİ :Asliye Hukuk Mahkemesi Taraflar arasındaki tazminat davasından dolayı yapılan yargılama sonunda İlk Derece Mahkemesince davanın reddine karar verilmiştir. İlk Derece Mahkemesi kararı davacılar vekilince temyiz edilmekle; kesinlik, süre, temyiz şartı ve diğer usul eksiklikleri yönünden yapılan ön inceleme sonucunda, temyiz dilekçesinin kabulüne karar verildikten ve Tetkik Hâkimi tarafından hazırlanan rapor dinlendikten sonra dosyadaki belgeler incelenip gereği düşünüldü: I. DAVA 1.Davacı vekili dava dilekçesinde özetle; müvekkillerinin arsa sahibi olduğunu, ...\\'ın müteahhit olarak işbu arsa üzerine yapmış olduğu binanın ... 1. Asliye Hukuk Mahkemesinin 2009/139 D. ... dosyası üzerinden ihtiyati tedbir konularak inşaatın durdurulduğunu, HUMK\\'un 109. maddesi gereğince ihtiyati tedbir kararının verildiği tarihten itibaren 10 gün içerisinde esas hakkında davanın açılması gerektiğini ve bu durumun dosyaya ibrazı gerekirken davanın açılmadığını, Hukuk Usulü Muhakemeleri Kanununun 110.', 'token_count': 422, 'char_count': 1066, 'original_index': 1, 'esas_no': '2022/3281 E.', 'karar_no': '2024/117 K.', 'daire': '6.HukukDairesisi', 'tarih': '30.12.2011,26.06.2009,25.12.2009,04.01.2010,05.01.2010,12.01.2010,04.06.2013,25.12.2009,31.12.2009,04.01.2010,05.01.2010,08.01.2010,13.01.2010,05.01.2010,14.01.2010,05.01.2010,14.01.2010,11.01.2024', 'document_id': '6750524485b6640290c37b07'}, vector=None, shard_key=None, order_value=None), ScoredPoint(id='13b88f7c-8c77-4e57-b4e7-b56968fed523', version=0, score=0.6032536, payload={'chunk_id': 7, 'text': 'maddesindeki on günlük süre içerisinde esas hakkında dava açmazsa, ihtiyati tedbirin haksız konulmuş sayılacağı, haksız ihtiyati tedbirden dolayı tazminat davası açan davacının ödenmesini istediği zararı ile haksız ihtiyati tedbir arasında uygun illiyet (nedensellik) bağı (sebep sonuç ilişkisi) bulunması da gerektiği, bu durumda, somut olayda mahkemece alınan ve icra ettirilen ihtiyati tedbir kararından sonra süresinde dava açılmamış olması nedeniyle tedbirin haksız olduğu kabul edilerek davacılara maddi zararlarını ve illiyet bağını ispat imkanı tanınmalı ve sonucuna göre karar verilmesi gerekçesi ile kararın bozulmasına karar verilmiştir. B. Mahkemece Bozmaya Uyularak Verilen Karar Mahkemenin yukarıda tarih ve sayısı belirtilen kararı ile davacı tarafın iddiaları, davalı tarafın savunmaları ... 1. Asliye Hukuk Mahkemesinin 2009/139 D. ... sayılı dosyası ile dosya kapsamı birlikte değerlendirildiğinde; davalının talebi üzerine mahkemenin 25/12/2009 tarihinde dava konusu 2776 parsel üzerinde yapımı devam edilen inşaatın tedbiren durdurulmasına karar verildiği, ...', 'token_count': 409, 'char_count': 1080, 'original_index': 1, 'esas_no': '2022/3281 E.', 'karar_no': '2024/117 K.', 'daire': '6.HukukDairesisi', 'tarih': '30.12.2011,26.06.2009,25.12.2009,04.01.2010,05.01.2010,12.01.2010,04.06.2013,25.12.2009,31.12.2009,04.01.2010,05.01.2010,08.01.2010,13.01.2010,05.01.2010,14.01.2010,05.01.2010,14.01.2010,11.01.2024', 'document_id': '6750524485b6640290c37b07'}, vector=None, shard_key=None, order_value=None), ScoredPoint(id='0d2fe898-2bf3-441c-83aa-c10bc72b7c22', version=0, score=0.5993534, payload={'chunk_id': 8, 'text': \"Belediye Başkanlığına kararın infazı için müzekkere yazıldığı ve 05/01/2010 tarih saat 08:50 itibari ile İnşaatın mühürlenmesi suretiyle kararın infaz edildiği, davalı HUMK'un 109.maddesinde belirtilen tedbir kararının verilmesinden itibaren 10 gün içinde esas hakkında dava açmadığından, 05/01/2010 tarihi itibariyle ihtiyati tedbir kararının kendiliğinden ortadan kalktığı ve ihtiyati tedbir kararının haksız olduğunun kabulü gerektiği her ne kadar davacı tarafça tedbirin 14/01/2010 tarihinde saat 9:00 da fiilen kaldırıldığı bozma ilamına uyulmasına karar verilmesi ile usuli kazanılmış hak doğduğunu, zararın en az kira gelir kaybı kadar olduğu belirtilmiş ise de tazminat davalısının ödemekle yükümlü olduğu miktarın uyulmasına karar verilen Yargıtay ilamında da belirtildiği üzer ihtiyati tedbir kararının icra edildiği tarih ile ihtiyati tedbirin kalktığı ya da kalkmış sayıldığı tarih arasındaki zarar olduğu, ihtiyati tedbir kararının kalkmış sayıldığı tarih ile icra edildiği tarihin aynı olduğu, arada süre zarfı bulunmaması nedeniyle yapılması talep edilen keşifte yoksun kalınan kira kaybına ilişkin hesaplama yapılamayacağından yargılamaya bir katkı sağlamayacağı kanaati ile keşif yapılmadan belirtilen süre zarfından davacının uğradığı zarar bulunmadığından davanın reddine ilişkin aşağıdaki gibi hüküm kurulmuştur. V.\", 'token_count': 512, 'char_count': 1335, 'original_index': 1, 'esas_no': '2022/3281 E.', 'karar_no': '2024/117 K.', 'daire': '6.HukukDairesisi', 'tarih': '30.12.2011,26.06.2009,25.12.2009,04.01.2010,05.01.2010,12.01.2010,04.06.2013,25.12.2009,31.12.2009,04.01.2010,05.01.2010,08.01.2010,13.01.2010,05.01.2010,14.01.2010,05.01.2010,14.01.2010,11.01.2024', 'document_id': '6750524485b6640290c37b07'}, vector=None, shard_key=None, order_value=None)])"
      ]
     },
     "execution_count": 11,
     "metadata": {},
     "output_type": "execute_result"
    }
   ],
   "source": [
    "\n",
    "search_result = qdrant_client.query_points(\n",
    "    collection_name=config.COLLECTION_NAME,\n",
    "    query=q_dense, \n",
    "    using=\"dense_vec\",\n",
    "    prefetch=[\n",
    "        Prefetch(\n",
    "            query=query_sparse_vector,  # sparse vector\n",
    "            using=\"sparse_vec\",\n",
    "            limit=5\n",
    "        )\n",
    "    ],\n",
    "    limit=5\n",
    ")\n",
    "search_result"
   ]
  },
  {
   "cell_type": "code",
   "execution_count": null,
   "metadata": {},
   "outputs": [],
   "source": [
    "result=qdrant_client.query_points(\n",
    "    collection_name=config.COLLECTION_NAME,\n",
    "    prefetch=[\n",
    "        models.Prefetch(\n",
    "            query=query_sparse_vector,  # sparse vector\n",
    "            using=\"sparse_vec\",\n",
    "            limit=5,\n",
    "        ),\n",
    "        models.Prefetch(\n",
    "            query=q_dense,  # <-- dense vector\n",
    "            using=\"dense_vec\",\n",
    "            limit=20,\n",
    "        ),\n",
    "    ],\n",
    "    query=models.FusionQuery(fusion=models.Fusion.RRF),\n",
    ")"
   ]
  },
  {
   "cell_type": "code",
   "execution_count": 13,
   "metadata": {},
   "outputs": [
    {
     "data": {
      "text/plain": [
       "QueryResponse(points=[ScoredPoint(id='1857cecb-b515-447f-81d3-49f295ca9504', version=0, score=0.6558261, payload={'chunk_id': 10, 'text': '3. Değerlendirme Mahkemece, tazminat davalısının ödemekle yükümlü olduğu miktarın uyulmasına karar verilen Yargıtay ilamında da belirtildiği üzer ihtiyati tedbir kararının icra edildiği tarih ile ihtiyati tedbirin kalktığı ya da kalkmış sayıldığı tarih arasındaki zarar olduğu, ihtiyati tedbir kararının kalkmış sayıldığı tarih ile icra edildiği tarihin aynı olduğu, arada süre zarfı bulunmaması nedeniyle yapılması talep edilen keşifte yoksun kalınan kira kaybına ilişkin hesaplama yapılamayacağından yargılamaya bir katkı sağlamayacağı kanaatine varılarak davanın reddine karar verildiği, somut olayda; 05.01.2010 tarihinde tedbirin icra edildiği, 14.01.2010 tarihinde ise kaldırıldığı anlaşılmaktadır. Bu durumda mahkemece ihtiyati tedbir kararının kalkmış sayıldığı tarih ile icra edildiği tarihin aynı olduğuna dair karar hatalı olup, 05.01.2010 tarihi ile 14.01.2010 tarihleri arasında davacının maddi zararlarını ve illiyet bağını ispat imkanı tanınması ve sonucuna göre karar verilmesi gerekirken, davanın reddine karar verilmesi hatalı olmuş, kararın bozulmasına karar verilmiştir. VI.', 'token_count': 431, 'char_count': 1094, 'original_index': 1, 'esas_no': '2022/3281 E.', 'karar_no': '2024/117 K.', 'daire': '6.HukukDairesisi', 'tarih': '30.12.2011,26.06.2009,25.12.2009,04.01.2010,05.01.2010,12.01.2010,04.06.2013,25.12.2009,31.12.2009,04.01.2010,05.01.2010,08.01.2010,13.01.2010,05.01.2010,14.01.2010,05.01.2010,14.01.2010,11.01.2024', 'document_id': '6750524485b6640290c37b07'}, vector=None, shard_key=None, order_value=None), ScoredPoint(id='11565add-5269-4b80-baec-1aa695c7a5ee', version=0, score=0.6530695, payload={'chunk_id': 1, 'text': 'maddesi, ihtiyati tedbir kararının haksız olduğunun belirlenmesi halinde tedbir kararı yüzünden uğranılan zararın tazminini düzenlediğini, ihtiyati tedbir kararını icra ettiren tarafın yasal sürede dava açmaması halinde ihtiyati tedbirin haksız konulduğunun kabulü gerektiği, kaldı ki süresinde dava açsa da durumun değişmeyeceğini belirterek müvekkillerinin inşaatının geç bitirilmesinden kaynaklı 10.000,00 TL maddi tazminatın tahsiline karar verilmesini talep etmiştir. 2.Davacı vekili duruşmadaki beyanında; tedbir sebebiyle bağımsız bölümlerinin geç teslim edileceğini, bundan kaynaklı doğacak zararları talep ettiklerini beyan etmiştir. II. CEVAP Davalı vekili cevap dilekçesinde özetle; ekonomik nedenlerle 10 gün içerisinde dava açamadıklarını, 19 gün sonra açtıkları davanın ... 4. Asliye Hukuk Mahkemesinin 2010/27 Esas sayılı sırasında kayıtlı olduğunu belirterek davanın reddini talep etmiştir. III. MAHKEME KARARI Mahkemenin 30.12.2011 tarihli ve 2010/695 Esas, 2011/916 Karar sayılı kararı ile ... 1.Asliye Hukuk Mahkemesinin 2009/139 D....', 'token_count': 413, 'char_count': 1054, 'original_index': 1, 'esas_no': '2022/3281 E.', 'karar_no': '2024/117 K.', 'daire': '6.HukukDairesisi', 'tarih': '30.12.2011,26.06.2009,25.12.2009,04.01.2010,05.01.2010,12.01.2010,04.06.2013,25.12.2009,31.12.2009,04.01.2010,05.01.2010,08.01.2010,13.01.2010,05.01.2010,14.01.2010,05.01.2010,14.01.2010,11.01.2024', 'document_id': '6750524485b6640290c37b07'}, vector=None, shard_key=None, order_value=None), ScoredPoint(id='43744b30-6167-4afd-92de-81131348fa74', version=0, score=0.64281845, payload={'chunk_id': 6, 'text': \"maddesi hükmüne aykırı olarak ihtiyati tedbire ilişkin karar tarihinden itibaren 10 gün içinde dava açılmamış olduğu, haksız ihtiyati tedbirden dolayı olan sorumluluğun kusursuz sorumluluk olduğu, yani, haksız ihtiyati tedbir koydurtmuş olan tarafın, bundan doğan maddi zararla sorumlu tutulabilmesi için, ihtiyati tedbiri kötüniyetle istemiş ve koydurmuş olması veya bunda herhangi bir ihmalinin bulunmasının şart olmadığı, ihtiyati tedbir haksız ve bundan da bir zarar doğmuş ise, bu haksız ihtiyati tedbiri koydurtmuş olan tarafın kusurlu olmasa bile bundan zarar gören karşı tarafa veya üçüncü kişiye tazminat ödemekle yükümlü olduğu, ihtiyati tedbir isteyen ve bu kararı icra ettiren kişinin, ihtiyati tedbiri icra ettirdiği halde, HUMK'un 109.\", 'token_count': 290, 'char_count': 749, 'original_index': 1, 'esas_no': '2022/3281 E.', 'karar_no': '2024/117 K.', 'daire': '6.HukukDairesisi', 'tarih': '30.12.2011,26.06.2009,25.12.2009,04.01.2010,05.01.2010,12.01.2010,04.06.2013,25.12.2009,31.12.2009,04.01.2010,05.01.2010,08.01.2010,13.01.2010,05.01.2010,14.01.2010,05.01.2010,14.01.2010,11.01.2024', 'document_id': '6750524485b6640290c37b07'}, vector=None, shard_key=None, order_value=None), ScoredPoint(id='8c6efe33-adfd-4a4a-949e-444a5620ad1b', version=0, score=0.61943275, payload={'chunk_id': 0, 'text': '6. Hukuk Dairesi 2022/3281 E. , 2024/117 K. \\\\n \"İçtihat Metni\" MAHKEMESİ :Asliye Hukuk Mahkemesi Taraflar arasındaki tazminat davasından dolayı yapılan yargılama sonunda İlk Derece Mahkemesince davanın reddine karar verilmiştir. İlk Derece Mahkemesi kararı davacılar vekilince temyiz edilmekle; kesinlik, süre, temyiz şartı ve diğer usul eksiklikleri yönünden yapılan ön inceleme sonucunda, temyiz dilekçesinin kabulüne karar verildikten ve Tetkik Hâkimi tarafından hazırlanan rapor dinlendikten sonra dosyadaki belgeler incelenip gereği düşünüldü: I. DAVA 1.Davacı vekili dava dilekçesinde özetle; müvekkillerinin arsa sahibi olduğunu, ...\\'ın müteahhit olarak işbu arsa üzerine yapmış olduğu binanın ... 1. Asliye Hukuk Mahkemesinin 2009/139 D. ... dosyası üzerinden ihtiyati tedbir konularak inşaatın durdurulduğunu, HUMK\\'un 109. maddesi gereğince ihtiyati tedbir kararının verildiği tarihten itibaren 10 gün içerisinde esas hakkında davanın açılması gerektiğini ve bu durumun dosyaya ibrazı gerekirken davanın açılmadığını, Hukuk Usulü Muhakemeleri Kanununun 110.', 'token_count': 422, 'char_count': 1066, 'original_index': 1, 'esas_no': '2022/3281 E.', 'karar_no': '2024/117 K.', 'daire': '6.HukukDairesisi', 'tarih': '30.12.2011,26.06.2009,25.12.2009,04.01.2010,05.01.2010,12.01.2010,04.06.2013,25.12.2009,31.12.2009,04.01.2010,05.01.2010,08.01.2010,13.01.2010,05.01.2010,14.01.2010,05.01.2010,14.01.2010,11.01.2024', 'document_id': '6750524485b6640290c37b07'}, vector=None, shard_key=None, order_value=None), ScoredPoint(id='5fe6c6ce-7bdf-474d-ba60-dee226037ec0', version=0, score=0.6056839, payload={'chunk_id': 4, 'text': \"Hukuk Dairesinin 04.06.2013 tarihli ve 2013/2984 Esas, 2013/3773 Karar sayılı kararıyla dava tarihinde yürürlükte olan 1086 sayılı HUMK'un 109. maddesinin ''İhtiyati tedbir kararı dava ikamesinden evvel verilmiş ise tatbik edilmiş olsun olmasın kararın verildiği tarihten itibaren on gün zarfında esas hakkında dava ikamesi lazımdır. Bu müddette müddei, davasını ikame eylediğini müsbit evrakı, kararı tatbik eden memura ibrazla dosyaya vaz ve kaydettirerek mukabilinde ilmuhaber almaya mecburdur. Aksi takdirde ihtiyati tedbir bir gûna merasime hacet kalmaksızın kendiliğinden kalkar ve iktizasına göre vazolunan tedbirin fiilen kaldırılması, ihtiyati tedbiri tatbik eden daire veya memurdan talep olunabilir'' hükmünü içerdiği, somut olayda, davalının talebi üzerine ... 1. Asliye Hukuk Mahkemesinin 2009/139 D. ...\", 'token_count': 323, 'char_count': 817, 'original_index': 1, 'esas_no': '2022/3281 E.', 'karar_no': '2024/117 K.', 'daire': '6.HukukDairesisi', 'tarih': '30.12.2011,26.06.2009,25.12.2009,04.01.2010,05.01.2010,12.01.2010,04.06.2013,25.12.2009,31.12.2009,04.01.2010,05.01.2010,08.01.2010,13.01.2010,05.01.2010,14.01.2010,05.01.2010,14.01.2010,11.01.2024', 'document_id': '6750524485b6640290c37b07'}, vector=None, shard_key=None, order_value=None)])"
      ]
     },
     "execution_count": 13,
     "metadata": {},
     "output_type": "execute_result"
    }
   ],
   "source": [
    "search_result = qdrant_client.query_points(\n",
    "    collection_name=config.COLLECTION_NAME,\n",
    "    query=q_dense, \n",
    "    using=\"dense_vec\",\n",
    "    limit=5\n",
    ")\n",
    "search_result"
   ]
  },
  {
   "cell_type": "code",
   "execution_count": null,
   "metadata": {},
   "outputs": [],
   "source": [
    "# search_result = qdrant_client.query_points(\n",
    "#     collection_name=config.COLLECTION_NAME,\n",
    "#     prefetch=[\n",
    "#         models.Prefetch(\n",
    "#             query = sparse_vector,\n",
    "#             using = \"sparse_vec\",\n",
    "#             limit = 5,\n",
    "#         ),\n",
    "#         models.Prefetch(\n",
    "#             query = query_dense,\n",
    "#             using = \"dense_vec\",\n",
    "#             limit = 5\n",
    "#         ),\n",
    "#     ],\n",
    "     \n",
    "\n",
    "# )"
   ]
  },
  {
   "cell_type": "code",
   "execution_count": null,
   "metadata": {},
   "outputs": [],
   "source": [
    "query_dense = NamedVector(name=\"dense_vec\",vector=q_dense)\n",
    "query_sparse = sparse_embeddings_list[0]\n",
    "sparse_vector = NamedSparseVector(name=\"sparse_vec\",vector=SparseVector(\n",
    "        indices=query_sparse.indices.tolist(),\n",
    "        values=query_sparse.values.tolist()\n",
    "    ))"
   ]
  },
  {
   "cell_type": "code",
   "execution_count": null,
   "metadata": {},
   "outputs": [],
   "source": [
    "search_result = qdrant_client.query_points(\n",
    "    collection_name=config.COLLECTION_NAME,\n",
    "    prefetch=prefetch,\n",
    "    query=FusionQuery(fusion=Fusion.RRF),  # RRF fusion\n",
    "    limit=5,\n",
    "    score_threshold=0.6,\n",
    "    with_payload=True\n",
    ")"
   ]
  },
  {
   "cell_type": "code",
   "execution_count": null,
   "metadata": {},
   "outputs": [],
   "source": [
    "\n",
    "corpus = [\n",
    "    \"bugün hava çok  güzel ve güneşli \"\n",
    "]\n",
    "bm25 = BM25Okapi(corpus)\n",
    "\n",
    "qry = query\n",
    "scores = bm25.get_scores(qry)\n",
    "print(scores)\n",
    "bm25"
   ]
  },
  {
   "cell_type": "code",
   "execution_count": null,
   "metadata": {},
   "outputs": [],
   "source": [
    "corpus = [\n",
    "    \"bugün hava çok o güzel ve güneşli jslkgvj dkvdfnjfnv aaaaa\"\n",
    "]\n",
    "vectorizer = TfidfVectorizer()\n",
    "X_sparse = vectorizer.fit_transform(corpus)\n",
    "sparse_vectors = []\n",
    "for row in X_sparse:\n",
    "    row_coo = row.tocoo()\n",
    "    sparse_vectors.append({\"indices\": row_coo.col.tolist(), \"values\": row_coo.data.tolist()})\n",
    "\n",
    "sparse_vectors"
   ]
  },
  {
   "cell_type": "code",
   "execution_count": null,
   "metadata": {},
   "outputs": [],
   "source": [
    "x_sparse = vectorizer.fit_transform([query])  # sadece sorgu texti\n",
    "row = x_sparse[0].tocoo()\n",
    "\n",
    "sparse_vector = NamedSparseVector(\n",
    "    name=\"sparse_vec\",\n",
    "    vector=SparseVector(\n",
    "        indices=row.col.tolist(),\n",
    "        values=row.data.tolist()\n",
    "    )\n",
    ")"
   ]
  }
 ],
 "metadata": {
  "kernelspec": {
   "display_name": "ahsen",
   "language": "python",
   "name": "python3"
  },
  "language_info": {
   "codemirror_mode": {
    "name": "ipython",
    "version": 3
   },
   "file_extension": ".py",
   "mimetype": "text/x-python",
   "name": "python",
   "nbconvert_exporter": "python",
   "pygments_lexer": "ipython3",
   "version": "3.10.12"
  }
 },
 "nbformat": 4,
 "nbformat_minor": 2
}
