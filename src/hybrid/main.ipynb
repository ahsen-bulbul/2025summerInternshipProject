{
 "cells": [
  {
   "cell_type": "code",
   "execution_count": null,
   "metadata": {},
   "outputs": [
    {
     "name": "stderr",
     "output_type": "stream",
     "text": [
      "/home/yapayzeka/ahsen_bulbul/ahsen/lib/python3.10/site-packages/tqdm/auto.py:21: TqdmWarning: IProgress not found. Please update jupyter and ipywidgets. See https://ipywidgets.readthedocs.io/en/stable/user_install.html\n",
      "  from .autonotebook import tqdm as notebook_tqdm\n",
      "Fetching 30 files: 100%|██████████| 30/30 [00:00<00:00, 192989.45it/s]\n"
     ]
    },
    {
     "name": "stdout",
     "output_type": "stream",
     "text": [
      "✅ Hazır - Cihaz: NVIDIA RTX A6000\n",
      "\n",
      "1) Tam pipeline çalıştır\n",
      "2) Arama\n",
      "3) Çıkış\n",
      "🗑️ Eski koleksiyon silindi: bge_hybrid_chunks\n",
      "✅ Koleksiyon oluşturuldu: bge_hybrid_chunks (Dense+Sparse)\n"
     ]
    },
    {
     "name": "stderr",
     "output_type": "stream",
     "text": [
      "You're using a XLMRobertaTokenizerFast tokenizer. Please note that with a fast tokenizer, using the `__call__` method is faster than using a method to encode the text followed by a call to the `pad` method to get a padded encoding.\n"
     ]
    },
    {
     "name": "stdout",
     "output_type": "stream",
     "text": [
      "{\n",
      "  \"collection_name\": \"bge_hybrid_chunks\",\n",
      "  \"points_count\": 59,\n",
      "  \"vectors_count\": null,\n",
      "  \"status\": \"green\"\n",
      "}\n",
      "\n",
      "1) Tam pipeline çalıştır\n",
      "2) Arama\n",
      "3) Çıkış\n",
      "{\n",
      "  \"score\": 0.69252634,\n",
      "  \"payload\": null\n",
      "}\n",
      "{\n",
      "  \"score\": 0.68916494,\n",
      "  \"payload\": null\n",
      "}\n",
      "{\n",
      "  \"score\": 0.65770495,\n",
      "  \"payload\": null\n",
      "}\n",
      "{\n",
      "  \"score\": 0.6522062,\n",
      "  \"payload\": null\n",
      "}\n",
      "{\n",
      "  \"score\": 0.65186155,\n",
      "  \"payload\": null\n",
      "}\n",
      "\n",
      "1) Tam pipeline çalıştır\n",
      "2) Arama\n",
      "3) Çıkış\n"
     ]
    }
   ],
   "source": [
    "from config import Config\n",
    "from pipeline import YargitayPipeline\n",
    "import pandas as pd\n",
    "import json\n",
    "from processor import YargitaySemanticProcessor\n",
    "\n",
    "def main():\n",
    "    config = Config(\n",
    "        CSV_FILE=\"/home/yapayzeka/ahsen_bulbul/data/cleaned10chunk.csv\",\n",
    "        TOKEN_SIZE=512,\n",
    "        QDRANT_URL=\"http://localhost:6333\",\n",
    "        COLLECTION_NAME=\"try\",\n",
    "        EMBEDDING_DIM=512,\n",
    "        BATCH_SIZE=100\n",
    "    )\n",
    "    pipeline = YargitayPipeline(config)\n",
    "\n",
    "    while True:\n",
    "        print(\"\\n\" + \"=\"*60)\n",
    "        print(\"🏛️ YARGITAY BGE-M3 SEMANTİK SİSTEM (Dense+Sparse)\")\n",
    "        print(\"=\"*60)\n",
    "        print(\"1) Tam pipeline çalıştır (CSV -> chunks -> embed -> qdrant)\")\n",
    "        print(\"2) İnteraktif arama\")\n",
    "        print(\"3) Koleksiyon bilgilerini göster\")\n",
    "        print(\"4) Çıkış\")\n",
    "        choice = input(\"Seçiminiz (1-4): \").strip()\n",
    "        if choice==\"1\":\n",
    "            csv_path = input(f\"CSV yolu (enter ile default: {config.CSV_FILE}): \").strip() or config.CSV_FILE\n",
    "            ok = pipeline.full_pipeline(csv_path)\n",
    "            print(\"✅ Tamamlandı\" if ok else \"❌ Hata çıktı\")\n",
    "        elif choice==\"2\":\n",
    "            pipeline.interactive_search()\n",
    "        elif choice==\"3\":\n",
    "            info = pipeline.processor.get_collection_info()\n",
    "            print(json.dumps(info, indent=2, ensure_ascii=False))\n",
    "        elif choice==\"4\":\n",
    "            print(\"👋 Görüşürüz\")\n",
    "            break\n",
    "        else:\n",
    "            print(\"❌ Geçersiz seçim\")\n",
    "\n",
    "if __name__ == \"__main__\":\n",
    "    main()\n"
   ]
  },
  {
   "cell_type": "code",
   "execution_count": null,
   "metadata": {},
   "outputs": [],
   "source": []
  }
 ],
 "metadata": {
  "kernelspec": {
   "display_name": "ahsen",
   "language": "python",
   "name": "python3"
  },
  "language_info": {
   "codemirror_mode": {
    "name": "ipython",
    "version": 3
   },
   "file_extension": ".py",
   "mimetype": "text/x-python",
   "name": "python",
   "nbconvert_exporter": "python",
   "pygments_lexer": "ipython3",
   "version": "3.10.12"
  }
 },
 "nbformat": 4,
 "nbformat_minor": 2
}
