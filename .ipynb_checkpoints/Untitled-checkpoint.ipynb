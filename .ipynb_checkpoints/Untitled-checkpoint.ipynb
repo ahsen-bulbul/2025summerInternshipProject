{
 "cells": [
  {
   "cell_type": "code",
   "execution_count": 1,
   "id": "6179611a-3fd5-43c4-8a3a-b36a309ed4ea",
   "metadata": {},
   "outputs": [],
   "source": [
    "import pandas as pd\n",
    "from collections import Counter\n",
    "import re\n",
    "import matplotlib.pyplot as plt\n",
    "from wordcloud import WordCloud\n",
    "import nltk\n",
    "from nltk.corpus import stopwords"
   ]
  },
  {
   "cell_type": "code",
   "execution_count": 5,
   "id": "df40a4ff-762a-4585-aece-da0e2c372d0c",
   "metadata": {},
   "outputs": [],
   "source": [
    "df = pd.read_csv('aidevdb.yargitay_kararlar.csv', header=None, names=['id', 'daire', 'metin'])\n",
    "\n",
    "# Metin temizleme (basit)\n",
    "def temizle(text):\n",
    "    text = text.lower()\n",
    "    text = re.sub(r'\\s+', ' ', text)  # Fazla boşlukları temizle\n",
    "    text = re.sub(r'[^\\w\\sğüşöçİı]', '', text)  # Noktalama kaldır (Türkçe karakter koru)\n",
    "    return text\n",
    "\n",
    "df['temiz_metin'] = df['metin'].apply(temizle)"
   ]
  },
  {
   "cell_type": "code",
   "execution_count": null,
   "id": "91bb2a0e-b78f-47ff-b878-d81f55bd73f1",
   "metadata": {},
   "outputs": [],
   "source": [
    "df = pd.read_csv('aidevdb.yargitay_kararlar.csv', header=None, names=['id', 'daire', 'metin'])"
   ]
  }
 ],
 "metadata": {
  "kernelspec": {
   "display_name": "Python 3 (ipykernel)",
   "language": "python",
   "name": "python3"
  },
  "language_info": {
   "codemirror_mode": {
    "name": "ipython",
    "version": 3
   },
   "file_extension": ".py",
   "mimetype": "text/x-python",
   "name": "python",
   "nbconvert_exporter": "python",
   "pygments_lexer": "ipython3",
   "version": "3.10.12"
  }
 },
 "nbformat": 4,
 "nbformat_minor": 5
}
